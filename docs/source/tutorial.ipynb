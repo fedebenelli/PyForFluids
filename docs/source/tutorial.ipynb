{
 "cells": [
  {
   "cell_type": "markdown",
   "id": "ac0ecbee",
   "metadata": {},
   "source": [
    "# Tutorial"
   ]
  },
  {
   "cell_type": "markdown",
   "id": "72e7501a",
   "metadata": {},
   "source": [
    "## Relevant imports"
   ]
  },
  {
   "cell_type": "code",
   "execution_count": 1,
   "id": "fddc4e9a",
   "metadata": {},
   "outputs": [],
   "source": [
    "import matplotlib.pyplot as plt\n",
    "import numpy as np\n",
    "import pyforfluids as pff"
   ]
  },
  {
   "cell_type": "markdown",
   "id": "46eb1678",
   "metadata": {},
   "source": [
    "## Definition of the model to be used"
   ]
  },
  {
   "cell_type": "code",
   "execution_count": 2,
   "id": "b524a444",
   "metadata": {},
   "outputs": [],
   "source": [
    "model = pff.models.GERG2008()"
   ]
  },
  {
   "cell_type": "markdown",
   "id": "c7ef886c",
   "metadata": {},
   "source": [
    "## Fluid's initial state"
   ]
  },
  {
   "cell_type": "code",
   "execution_count": 3,
   "id": "f2b65b20",
   "metadata": {},
   "outputs": [],
   "source": [
    "temperature = 250  # Degrees Kelvin\n",
    "density = 1  # mol/L\n",
    "pressure = 101325  # Pa\n",
    "composition = {'methane': 0.9, 'ethane': 0.05, 'propane': 0.05}  # Molar fractions"
   ]
  },
  {
   "cell_type": "markdown",
   "id": "f7a1489b",
   "metadata": {},
   "source": [
    "### Definition of the fluid\n",
    "The properties will be calculated at the moment of the object definition."
   ]
  },
  {
   "cell_type": "code",
   "execution_count": 4,
   "id": "73c99281",
   "metadata": {
    "code_folding": []
   },
   "outputs": [],
   "source": [
    "fluid = pff.Fluid(\n",
    "    model=model,\n",
    "    composition=composition,\n",
    "    temperature=temperature,\n",
    "    density=density\n",
    ")"
   ]
  },
  {
   "cell_type": "markdown",
   "id": "232c3f94",
   "metadata": {},
   "source": [
    "#### Pressure as an init variable\n",
    "Pressure can be used as an initial variable, in this case the method `fluid.density_iterator` will be called internally to find the root of density at the given pressure, since all models use density as an independent variable instead of temperature. \n",
    "\n",
    "This can lead to trouble since multiple roots can be obtained in the equilibrium region!"
   ]
  },
  {
   "cell_type": "code",
   "execution_count": 5,
   "id": "dcb28943",
   "metadata": {},
   "outputs": [],
   "source": [
    "fluid = pff.Fluid(\n",
    "    model=model,\n",
    "    composition=composition,\n",
    "    temperature=temperature,\n",
    "    pressure=pressure\n",
    ")"
   ]
  },
  {
   "cell_type": "markdown",
   "id": "0ea03183",
   "metadata": {},
   "source": [
    "### Accessing properties\n",
    "\n",
    "Properties are stored in the Fluid attribute `Fluid.properties` as a dictionary, they can either be accessed that way or by calling them directly from the fluid.\n",
    "\n",
    "All the properties are expressed in **International System** units, except for density that's expressed in **[mol/L]**"
   ]
  },
  {
   "cell_type": "code",
   "execution_count": 6,
   "id": "27505190",
   "metadata": {},
   "outputs": [
    {
     "data": {
      "text/plain": [
       "{'density_r': 9.442772800175154,\n",
       " 'temperature_r': 207.1068112975803,\n",
       " 'delta': 0.005162295708090389,\n",
       " 'tau': 0.8284272451903212,\n",
       " 'ao': array([[-3.47583079e+01,  0.00000000e+00,  0.00000000e+00],\n",
       "        [ 1.93712266e+02, -4.99964400e+01,  0.00000000e+00],\n",
       "        [-3.75244420e+04, -5.41251465e+00,  0.00000000e+00]]),\n",
       " 'ar': array([[-0.0041676 ,  0.        ,  0.        ],\n",
       "        [-0.80651578, -0.0108937 ,  0.        ],\n",
       "        [ 0.31041621, -0.00769256, -2.10957546]]),\n",
       " 'z': 0.9958365270355344,\n",
       " 'cv': 30.928532328981273,\n",
       " 'cp': 39.39441402789975,\n",
       " 'w': 380.3778978355614,\n",
       " 'isothermal_thermal_coefficent': -0.2725846588975132,\n",
       " 'dp_dt': 0.4072695321069243,\n",
       " 'dp_drho': 2061.3266554120955,\n",
       " 'dp_dv': -4.898145216338861,\n",
       " 'p': 100903.24995863381,\n",
       " 's': -55.41564180556873,\n",
       " 'u': -86111.8177689482,\n",
       " 'h': -84041.85403879466,\n",
       " 'g': -70187.94358740246,\n",
       " 'jt': 0.00035980611360190225,\n",
       " 'k': 1.2633809737968698,\n",
       " 'b': -0.08557993798318263,\n",
       " 'c': 0.003479888600305259}"
      ]
     },
     "execution_count": 6,
     "metadata": {},
     "output_type": "execute_result"
    }
   ],
   "source": [
    "fluid.properties"
   ]
  },
  {
   "cell_type": "code",
   "execution_count": 7,
   "id": "639ffe2b",
   "metadata": {},
   "outputs": [
    {
     "data": {
      "text/plain": [
       "30.928532328981273"
      ]
     },
     "execution_count": 7,
     "metadata": {},
     "output_type": "execute_result"
    }
   ],
   "source": [
    "fluid['cv']"
   ]
  },
  {
   "cell_type": "markdown",
   "id": "f6c8c5b8",
   "metadata": {},
   "source": [
    "### State changes\n",
    "\n",
    "A fluid thermodynamic variable can be changed by using the methods:\n",
    "\n",
    "- `Fluid.set_temperature`\n",
    "- `Fluid.set_composition`\n",
    "- `Fluid.set_density`\n",
    "- `Fluid.set_pressure`\n",
    "\n",
    "When a property is changed, the properties are not re-calculated, so it's a **must** to call the method `Fluid.calculate_properties`. This is intended to avoid useless calculations if two or more variables are to be changed. In the case of a pressure change `Fluid.density_iterator` will be called!"
   ]
  },
  {
   "cell_type": "code",
   "execution_count": 8,
   "id": "fa3fed16",
   "metadata": {},
   "outputs": [],
   "source": [
    "fluid.set_temperature(280)\n",
    "fluid.set_density(2)\n",
    "\n",
    "fluid.calculate_properties()"
   ]
  },
  {
   "cell_type": "code",
   "execution_count": 9,
   "id": "a8569e18",
   "metadata": {},
   "outputs": [
    {
     "data": {
      "text/plain": [
       "34.71399971808808"
      ]
     },
     "execution_count": 9,
     "metadata": {},
     "output_type": "execute_result"
    }
   ],
   "source": [
    "fluid['cv']"
   ]
  },
  {
   "cell_type": "markdown",
   "id": "dd715279",
   "metadata": {},
   "source": [
    "## Calculating isotherms\n",
    "\n",
    "Isotherms at the fluid temperature can be calculated along a density range with the method `Fluid.isotherm`. This will return a dictionary equivalent to the `Fluid.properties` one, but each value will be a list instead of a single value."
   ]
  },
  {
   "cell_type": "code",
   "execution_count": 10,
   "id": "c56ca684",
   "metadata": {},
   "outputs": [],
   "source": [
    "density_range = np.linspace(0.001, 20, 100)\n",
    "isotherm = fluid.isotherm(density_range)"
   ]
  },
  {
   "cell_type": "code",
   "execution_count": 11,
   "id": "700c9378",
   "metadata": {},
   "outputs": [
    {
     "data": {
      "text/plain": [
       "[33.34361845195672,\n",
       " 33.48240604268746,\n",
       " 33.622421620895594,\n",
       " 33.76309070522664,\n",
       " 33.903893177656855]"
      ]
     },
     "execution_count": 11,
     "metadata": {},
     "output_type": "execute_result"
    }
   ],
   "source": [
    "isotherm['cv'][:5]"
   ]
  },
  {
   "cell_type": "code",
   "execution_count": 12,
   "id": "8a08f267",
   "metadata": {},
   "outputs": [
    {
     "data": {
      "image/png": "[encoded data removed]",
      "text/plain": [
       "<Figure size 432x288 with 1 Axes>"
      ]
     },
     "metadata": {
      "needs_background": "light"
     },
     "output_type": "display_data"
    }
   ],
   "source": [
    "plt.plot(density_range, isotherm['p'])\n",
    "plt.show()"
   ]
  },
  {
   "cell_type": "code",
   "execution_count": null,
   "id": "8d57ef5c",
   "metadata": {},
   "outputs": [],
   "source": []
  }
 ],
 "metadata": {
  "kernelspec": {
   "display_name": "Python 3",
   "language": "python",
   "name": "python3"
  },
  "language_info": {
   "codemirror_mode": {
    "name": "ipython",
    "version": 3
   },
   "file_extension": ".py",
   "mimetype": "text/x-python",
   "name": "python",
   "nbconvert_exporter": "python",
   "pygments_lexer": "ipython3",
   "version": "3.9.7"
  }
 },
 "nbformat": 4,
 "nbformat_minor": 5
}
