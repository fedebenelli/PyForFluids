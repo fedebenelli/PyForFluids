{
 "cells": [
  {
   "cell_type": "markdown",
   "id": "ac0ecbee",
   "metadata": {},
   "source": [
    "# Tutorial"
   ]
  },
  {
   "cell_type": "markdown",
   "id": "72e7501a",
   "metadata": {},
   "source": [
    "## Relevant imports"
   ]
  },
  {
   "cell_type": "code",
   "execution_count": 1,
   "id": "fddc4e9a",
   "metadata": {},
   "outputs": [],
   "source": [
    "import matplotlib.pyplot as plt\n",
    "import numpy as np\n",
    "\n",
    "import pyforfluids as pff\n",
    "import chemicals"
   ]
  },
  {
   "cell_type": "markdown",
   "id": "46eb1678",
   "metadata": {},
   "source": [
    "## Definition of the model to be used"
   ]
  },
  {
   "cell_type": "code",
   "execution_count": 2,
   "id": "b524a444",
   "metadata": {},
   "outputs": [],
   "source": [
    "model = pff.models.GERG2008()"
   ]
  },
  {
   "cell_type": "markdown",
   "id": "c7ef886c",
   "metadata": {},
   "source": [
    "## Fluid's initial state"
   ]
  },
  {
   "cell_type": "code",
   "execution_count": 3,
   "id": "f2b65b20",
   "metadata": {},
   "outputs": [],
   "source": [
    "temperature = 250  # Degrees Kelvin\n",
    "density = 1  # mol/L\n",
    "pressure = 101325  # Pa\n",
    "composition = {'methane': 0.9, 'ethane': 0.05, 'propane': 0.05}  # Molar fractions"
   ]
  },
  {
   "cell_type": "markdown",
   "id": "f7a1489b",
   "metadata": {},
   "source": [
    "### Definition of the fluid\n",
    "The properties will be calculated at the moment of the object definition."
   ]
  },
  {
   "cell_type": "code",
   "execution_count": 4,
   "id": "73c99281",
   "metadata": {
    "code_folding": []
   },
   "outputs": [],
   "source": [
    "fluid = pff.Fluid(\n",
    "    model=model,\n",
    "    composition=composition,\n",
    "    temperature=temperature,\n",
    "    density=density\n",
    ")"
   ]
  },
  {
   "cell_type": "markdown",
   "id": "232c3f94",
   "metadata": {},
   "source": [
    "#### Pressure as an init variable\n",
    "Pressure can be used as an initial variable, in this case the method `fluid.density_iterator` will be called internally to find the root of density at the given pressure, since all models use density as an independent variable instead of temperature. \n",
    "\n",
    "This can lead to trouble since multiple roots can be obtained in the equilibrium region!"
   ]
  },
  {
   "cell_type": "code",
   "execution_count": 5,
   "id": "dcb28943",
   "metadata": {},
   "outputs": [],
   "source": [
    "fluid = pff.Fluid(\n",
    "    model=model,\n",
    "    composition=composition,\n",
    "    temperature=temperature,\n",
    "    pressure=pressure\n",
    ")"
   ]
  },
  {
   "cell_type": "markdown",
   "id": "0ea03183",
   "metadata": {},
   "source": [
    "### Accessing properties\n",
    "\n",
    "Properties are stored in the Fluid attribute `Fluid.properties` as a dictionary, they can either be accessed that way or by calling them directly from the fluid.\n",
    "\n",
    "All the properties are expressed in **International System** units, except for density that's expressed in **[mol/L]**"
   ]
  },
  {
   "cell_type": "code",
   "execution_count": 6,
   "id": "27505190",
   "metadata": {},
   "outputs": [
    {
     "data": {
      "text/plain": [
       "critical_density                                                          9.442773\n",
       "critical_temperature                                                    207.106811\n",
       "ideal_helmholtz                  [[-1.4648338367393778, 0.0, 0.0], [192.9025895...\n",
       "residual_helmholtz               [[-0.004185073700756314, 0.0, 0.0], [-0.806509...\n",
       "ar_x                             [-0.0041889410624157, 0.0, 0.0, -0.00416396025...\n",
       "ar_dx                            [-0.8072744747399465, 0.0, 0.0, -0.80225571856...\n",
       "ar_tx                            [-0.0108604494306309, 0.0, 0.0, -0.01160250616...\n",
       "ar_xx                            [[0.0, 0.0, 0.0, 0.0, 0.0, 0.0, 0.0, 0.0, 0.0,...\n",
       "dvr_dx                           [0.20451237337230468, 0.0, 0.0, 0.250642937311...\n",
       "dtr_dx                           [397.89662106931627, 0.0, 0.0, 521.78975121897...\n",
       "dvr2_dx2                         [0.19725144473637551, 0.17882849453231878, 0.1...\n",
       "dtr2_dx2                         [381.128, 252.384, 608.2564, 595.7192391305018...\n",
       "dvr2_dxx                         [[0.0, 0.0, 0.0, 0.24331653071188114, 0.296413...\n",
       "dtr2_dxx                         [[0.0, 0.0, 0.0, 508.236665020803, 589.3059887...\n",
       "dar_dn                           [-0.003182989659158678, 0.026490995905991646, ...\n",
       "dadr_dn                          [0.1384204575164364, 4.300149903877181, 4.3001...\n",
       "dnar_dn                          [-0.007368063359914992, 0.0, 0.0, -0.014585560...\n",
       "dnar2_dtn                        [6.806159821930746e-05, -7.865118701309581e-05...\n",
       "dar_ddn                          [0.1384204575164364, 4.300149903877181, 4.3001...\n",
       "dar_dtn                          [-0.00959999238264909, 0.034674500665529746, 0...\n",
       "dar2_dnn                         [[31.405193731935995, -0.41804313469749665, -0...\n",
       "dnar2_dnn                        [[31.405193731935995, -0.41804313469749665, -0...\n",
       "dp_dn                            [[100.92719494863678, 101.7643828852867, 101.7...\n",
       "dp_dnn                           [[10186.298680200134, 10270.793710291047, 1027...\n",
       "excess_volume                    [20.43401293818443, 20.603512438669924, 20.603...\n",
       "compressibility_factor                                                    0.995819\n",
       "isochoric_heat                                                           28.145826\n",
       "isobaric_heat                                                            36.612348\n",
       "sound_speed                                                              384.39416\n",
       "isothermal_thermal_coefficent                                            -0.272592\n",
       "dp_dt                                                                     0.408987\n",
       "dp_drho                                                                2061.254296\n",
       "dp_dv                                                                    -4.939176\n",
       "pressure                                                             101324.999999\n",
       "entropy                                                                  -3.372966\n",
       "internal_energy                                                        -3896.77076\n",
       "enthalpy                                                              -1826.843282\n",
       "gibbs_free_energy                                                      -983.601672\n",
       "joule_thomson_coefficent                                                  0.000007\n",
       "isentropic_exponent                                                       1.289793\n",
       "second_thermal_virial_coeff                                               -0.08558\n",
       "third_thermal_virial_coeff                                                 0.00348\n",
       "lnfug                            [-0.0031783853208419473, 0.004189678039073045,...\n",
       "dlnfug_dt                        [4.748089848642754e-05, -0.0001325824783467511...\n",
       "dlnfug_dp                        [0.009820707110934303, 0.009902251435329402, 0...\n",
       "dlnfug_dn                        [[31.409838247188702, -0.3919546738048181, -0....\n",
       "dtype: object"
      ]
     },
     "execution_count": 6,
     "metadata": {},
     "output_type": "execute_result"
    }
   ],
   "source": [
    "fluid.properties"
   ]
  },
  {
   "cell_type": "code",
   "execution_count": 7,
   "id": "639ffe2b",
   "metadata": {},
   "outputs": [
    {
     "data": {
      "text/plain": [
       "28.14582568798458"
      ]
     },
     "execution_count": 7,
     "metadata": {},
     "output_type": "execute_result"
    }
   ],
   "source": [
    "fluid['isochoric_heat']"
   ]
  },
  {
   "cell_type": "markdown",
   "id": "f6c8c5b8",
   "metadata": {},
   "source": [
    "### State changes\n",
    "\n",
    "A fluid thermodynamic variable can be changed by using the methods:\n",
    "\n",
    "- `Fluid.set_temperature`\n",
    "- `Fluid.set_composition`\n",
    "- `Fluid.set_density`\n",
    "- `Fluid.set_pressure`\n",
    "\n",
    "When a property is changed, the properties are not re-calculated, so it's a **must** to call the method `Fluid.calculate_properties`. This is intended to avoid useless calculations if two or more variables are to be changed. In the case of a pressure change `Fluid.density_iterator` will be called!"
   ]
  },
  {
   "cell_type": "code",
   "execution_count": 8,
   "id": "fa3fed16",
   "metadata": {},
   "outputs": [],
   "source": [
    "fluid.set_temperature(280)\n",
    "fluid.set_density(2)\n",
    "\n",
    "fluid.calculate_properties()"
   ]
  },
  {
   "cell_type": "code",
   "execution_count": 9,
   "id": "a8569e18",
   "metadata": {},
   "outputs": [
    {
     "data": {
      "text/plain": [
       "30.65088482829082"
      ]
     },
     "execution_count": 9,
     "metadata": {},
     "output_type": "execute_result"
    }
   ],
   "source": [
    "fluid['isochoric_heat']"
   ]
  },
  {
   "cell_type": "markdown",
   "id": "dd715279",
   "metadata": {},
   "source": [
    "## Calculating isotherms\n",
    "\n",
    "Isotherms at the fluid temperature can be calculated along a density range with the method `Fluid.isotherm`. This will return a dictionary equivalent to the `Fluid.properties` one, but each value will be a list instead of a single value."
   ]
  },
  {
   "cell_type": "code",
   "execution_count": 10,
   "id": "c56ca684",
   "metadata": {},
   "outputs": [],
   "source": [
    "density_range = np.linspace(0.001, 20, 100)\n",
    "isotherm = fluid.isotherm(density_range)"
   ]
  },
  {
   "cell_type": "code",
   "execution_count": 11,
   "id": "700c9378",
   "metadata": {},
   "outputs": [
    {
     "data": {
      "text/plain": [
       "0    2.327898e+03\n",
       "1    4.663138e+05\n",
       "2    9.180630e+05\n",
       "3    1.357953e+06\n",
       "4    1.786371e+06\n",
       "Name: pressure, dtype: float64"
      ]
     },
     "execution_count": 11,
     "metadata": {},
     "output_type": "execute_result"
    }
   ],
   "source": [
    "isotherm['pressure'][:5]"
   ]
  },
  {
   "cell_type": "code",
   "execution_count": 12,
   "id": "8a08f267",
   "metadata": {},
   "outputs": [
    {
     "data": {
      "image/png": "[encoded data removed]",
      "text/plain": [
       "<Figure size 640x480 with 1 Axes>"
      ]
     },
     "metadata": {},
     "output_type": "display_data"
    }
   ],
   "source": [
    "plt.title(r'$P\\rho$ isotherm at 280$K$')\n",
    "\n",
    "plt.plot(density_range, isotherm['pressure'])\n",
    "plt.show()"
   ]
  },
  {
   "cell_type": "markdown",
   "id": "3941fe1c",
   "metadata": {},
   "source": [
    "## Equilibrium"
   ]
  },
  {
   "cell_type": "code",
   "execution_count": 39,
   "id": "8d57ef5c",
   "metadata": {
    "scrolled": true
   },
   "outputs": [
    {
     "name": "stderr",
     "output_type": "stream",
     "text": [
      "/home/fedebenelli/docs/research/thermo/algos/pff/pyforfluids/equilibrium/flash.py:130: RuntimeWarning: divide by zero encountered in true_divide\n",
      "  b_max = (1 - z) / (1 - k)\n",
      "/home/fedebenelli/docs/research/thermo/algos/pff/pyforfluids/equilibrium/flash.py:136: RuntimeWarning: divide by zero encountered in true_divide\n",
      "  b_min = (k * z - 1) / (k - 1)\n"
     ]
    }
   ],
   "source": [
    "flash_pt = pff.equilibrium.flash_pt\n",
    "\n",
    "composition = {'propane': 0.01, 'butane': 0.5, 'isobutane': 0.15, 'pentane': 0.2, 'hexane': 0.14}\n",
    "temperature = 366.48\n",
    "pressure = 1.039e6\n",
    "\n",
    "fluid = pff.Fluid(\n",
    "    model=pff.models.GERG2008(),\n",
    "    composition=composition,\n",
    "    temperature=temperature,\n",
    "    density=1,\n",
    ")\n",
    "\n",
    "vapor, liquid, beta, it = flash_pt(fluid, pressure, temperature)"
   ]
  },
  {
   "cell_type": "code",
   "execution_count": 40,
   "id": "891b5936",
   "metadata": {},
   "outputs": [
    {
     "data": {
      "text/plain": [
       "Fluid(model=GERG2008, temperature=366.48, pressure=1039000.0000, density=0.4236, composition={'propane': 0.02405919, 'butane': 0.59222959, 'isobutane': 0.22051554, 'pentane': 0.11992022, 'hexane': 0.04327129})"
      ]
     },
     "execution_count": 40,
     "metadata": {},
     "output_type": "execute_result"
    }
   ],
   "source": [
    "vapor"
   ]
  },
  {
   "cell_type": "code",
   "execution_count": 41,
   "id": "7e325517",
   "metadata": {},
   "outputs": [
    {
     "data": {
      "text/plain": [
       "Fluid(model=GERG2008, temperature=366.48, pressure=1039000.0000, density=7.7999, composition={'propane': 0.00892179, 'butane': 0.49292686, 'isobutane': 0.14459213, 'pentane': 0.20614136, 'hexane': 0.14741818})"
      ]
     },
     "execution_count": 41,
     "metadata": {},
     "output_type": "execute_result"
    }
   ],
   "source": [
    "liquid"
   ]
  },
  {
   "cell_type": "code",
   "execution_count": 16,
   "id": "5290c75d",
   "metadata": {
    "scrolled": false
   },
   "outputs": [
    {
     "name": "stderr",
     "output_type": "stream",
     "text": [
      "/home/fedebenelli/docs/research/thermo/algos/pff/pyforfluids/models/gerg2008.py:351: RuntimeWarning: invalid value encountered in log\n",
      "  lnfug = dnar_dn - np.log(z)\n",
      "/home/fedebenelli/docs/research/thermo/algos/pff/pyforfluids/models/gerg2008.py:351: RuntimeWarning: invalid value encountered in log\n",
      "  lnfug = dnar_dn - np.log(z)\n",
      "/home/fedebenelli/docs/research/thermo/algos/pff/pyforfluids/models/gerg2008.py:351: RuntimeWarning: invalid value encountered in log\n",
      "  lnfug = dnar_dn - np.log(z)\n",
      "/home/fedebenelli/docs/research/thermo/algos/pff/pyforfluids/models/gerg2008.py:351: RuntimeWarning: invalid value encountered in log\n",
      "  lnfug = dnar_dn - np.log(z)\n",
      "/home/fedebenelli/docs/research/thermo/algos/pff/pyforfluids/models/gerg2008.py:351: RuntimeWarning: invalid value encountered in log\n",
      "  lnfug = dnar_dn - np.log(z)\n",
      "/home/fedebenelli/docs/research/thermo/algos/pff/pyforfluids/models/gerg2008.py:351: RuntimeWarning: invalid value encountered in log\n",
      "  lnfug = dnar_dn - np.log(z)\n",
      "/home/fedebenelli/docs/research/thermo/algos/pff/pyforfluids/models/gerg2008.py:351: RuntimeWarning: invalid value encountered in log\n",
      "  lnfug = dnar_dn - np.log(z)\n",
      "/home/fedebenelli/docs/research/thermo/algos/pff/pyforfluids/models/gerg2008.py:351: RuntimeWarning: invalid value encountered in log\n",
      "  lnfug = dnar_dn - np.log(z)\n",
      "/home/fedebenelli/docs/research/thermo/algos/pff/pyforfluids/models/gerg2008.py:351: RuntimeWarning: invalid value encountered in log\n",
      "  lnfug = dnar_dn - np.log(z)\n",
      "/home/fedebenelli/docs/research/thermo/algos/pff/pyforfluids/models/gerg2008.py:351: RuntimeWarning: invalid value encountered in log\n",
      "  lnfug = dnar_dn - np.log(z)\n",
      "/home/fedebenelli/docs/research/thermo/algos/pff/pyforfluids/models/gerg2008.py:351: RuntimeWarning: invalid value encountered in log\n",
      "  lnfug = dnar_dn - np.log(z)\n",
      "/home/fedebenelli/docs/research/thermo/algos/pff/pyforfluids/models/gerg2008.py:351: RuntimeWarning: invalid value encountered in log\n",
      "  lnfug = dnar_dn - np.log(z)\n",
      "/home/fedebenelli/docs/research/thermo/algos/pff/pyforfluids/models/gerg2008.py:351: RuntimeWarning: invalid value encountered in log\n",
      "  lnfug = dnar_dn - np.log(z)\n",
      "/home/fedebenelli/docs/research/thermo/algos/pff/pyforfluids/models/gerg2008.py:351: RuntimeWarning: invalid value encountered in log\n",
      "  lnfug = dnar_dn - np.log(z)\n",
      "/home/fedebenelli/docs/research/thermo/algos/pff/pyforfluids/models/gerg2008.py:351: RuntimeWarning: invalid value encountered in log\n",
      "  lnfug = dnar_dn - np.log(z)\n",
      "/home/fedebenelli/docs/research/thermo/algos/pff/pyforfluids/models/gerg2008.py:351: RuntimeWarning: invalid value encountered in log\n",
      "  lnfug = dnar_dn - np.log(z)\n",
      "/home/fedebenelli/docs/research/thermo/algos/pff/pyforfluids/models/gerg2008.py:351: RuntimeWarning: invalid value encountered in log\n",
      "  lnfug = dnar_dn - np.log(z)\n",
      "/home/fedebenelli/docs/research/thermo/algos/pff/pyforfluids/models/gerg2008.py:351: RuntimeWarning: invalid value encountered in log\n",
      "  lnfug = dnar_dn - np.log(z)\n",
      "/home/fedebenelli/docs/research/thermo/algos/pff/pyforfluids/models/gerg2008.py:351: RuntimeWarning: invalid value encountered in log\n",
      "  lnfug = dnar_dn - np.log(z)\n",
      "/home/fedebenelli/docs/research/thermo/algos/pff/pyforfluids/models/gerg2008.py:351: RuntimeWarning: invalid value encountered in log\n",
      "  lnfug = dnar_dn - np.log(z)\n",
      "/home/fedebenelli/docs/research/thermo/algos/pff/pyforfluids/models/gerg2008.py:351: RuntimeWarning: invalid value encountered in log\n",
      "  lnfug = dnar_dn - np.log(z)\n",
      "/home/fedebenelli/docs/research/thermo/algos/pff/pyforfluids/models/gerg2008.py:351: RuntimeWarning: invalid value encountered in log\n",
      "  lnfug = dnar_dn - np.log(z)\n",
      "/home/fedebenelli/docs/research/thermo/algos/pff/pyforfluids/models/gerg2008.py:351: RuntimeWarning: invalid value encountered in log\n",
      "  lnfug = dnar_dn - np.log(z)\n",
      "/home/fedebenelli/docs/research/thermo/algos/pff/pyforfluids/models/gerg2008.py:351: RuntimeWarning: invalid value encountered in log\n",
      "  lnfug = dnar_dn - np.log(z)\n",
      "/home/fedebenelli/docs/research/thermo/algos/pff/pyforfluids/models/gerg2008.py:351: RuntimeWarning: invalid value encountered in log\n",
      "  lnfug = dnar_dn - np.log(z)\n",
      "/home/fedebenelli/docs/research/thermo/algos/pff/pyforfluids/models/gerg2008.py:351: RuntimeWarning: invalid value encountered in log\n",
      "  lnfug = dnar_dn - np.log(z)\n",
      "/home/fedebenelli/docs/research/thermo/algos/pff/pyforfluids/models/gerg2008.py:351: RuntimeWarning: invalid value encountered in log\n",
      "  lnfug = dnar_dn - np.log(z)\n",
      "/home/fedebenelli/docs/research/thermo/algos/pff/pyforfluids/models/gerg2008.py:351: RuntimeWarning: invalid value encountered in log\n",
      "  lnfug = dnar_dn - np.log(z)\n",
      "/home/fedebenelli/docs/research/thermo/algos/pff/pyforfluids/models/gerg2008.py:351: RuntimeWarning: invalid value encountered in log\n",
      "  lnfug = dnar_dn - np.log(z)\n",
      "/home/fedebenelli/docs/research/thermo/algos/pff/pyforfluids/models/gerg2008.py:351: RuntimeWarning: invalid value encountered in log\n",
      "  lnfug = dnar_dn - np.log(z)\n",
      "/home/fedebenelli/docs/research/thermo/algos/pff/pyforfluids/models/gerg2008.py:351: RuntimeWarning: invalid value encountered in log\n",
      "  lnfug = dnar_dn - np.log(z)\n",
      "/home/fedebenelli/docs/research/thermo/algos/pff/pyforfluids/models/gerg2008.py:351: RuntimeWarning: invalid value encountered in log\n",
      "  lnfug = dnar_dn - np.log(z)\n",
      "/home/fedebenelli/docs/research/thermo/algos/pff/pyforfluids/models/gerg2008.py:351: RuntimeWarning: invalid value encountered in log\n",
      "  lnfug = dnar_dn - np.log(z)\n",
      "/home/fedebenelli/docs/research/thermo/algos/pff/pyforfluids/models/gerg2008.py:351: RuntimeWarning: invalid value encountered in log\n",
      "  lnfug = dnar_dn - np.log(z)\n",
      "/home/fedebenelli/docs/research/thermo/algos/pff/pyforfluids/models/gerg2008.py:351: RuntimeWarning: invalid value encountered in log\n",
      "  lnfug = dnar_dn - np.log(z)\n",
      "/home/fedebenelli/docs/research/thermo/algos/pff/pyforfluids/models/gerg2008.py:351: RuntimeWarning: invalid value encountered in log\n",
      "  lnfug = dnar_dn - np.log(z)\n",
      "/home/fedebenelli/docs/research/thermo/algos/pff/pyforfluids/models/gerg2008.py:351: RuntimeWarning: invalid value encountered in log\n",
      "  lnfug = dnar_dn - np.log(z)\n",
      "/home/fedebenelli/docs/research/thermo/algos/pff/pyforfluids/models/gerg2008.py:351: RuntimeWarning: invalid value encountered in log\n",
      "  lnfug = dnar_dn - np.log(z)\n",
      "/home/fedebenelli/docs/research/thermo/algos/pff/pyforfluids/models/gerg2008.py:351: RuntimeWarning: invalid value encountered in log\n",
      "  lnfug = dnar_dn - np.log(z)\n",
      "/home/fedebenelli/docs/research/thermo/algos/pff/pyforfluids/models/gerg2008.py:351: RuntimeWarning: invalid value encountered in log\n",
      "  lnfug = dnar_dn - np.log(z)\n",
      "/home/fedebenelli/docs/research/thermo/algos/pff/pyforfluids/models/gerg2008.py:351: RuntimeWarning: invalid value encountered in log\n",
      "  lnfug = dnar_dn - np.log(z)\n",
      "/home/fedebenelli/docs/research/thermo/algos/pff/pyforfluids/models/gerg2008.py:351: RuntimeWarning: invalid value encountered in log\n",
      "  lnfug = dnar_dn - np.log(z)\n",
      "/home/fedebenelli/docs/research/thermo/algos/pff/pyforfluids/models/gerg2008.py:351: RuntimeWarning: invalid value encountered in log\n",
      "  lnfug = dnar_dn - np.log(z)\n",
      "/home/fedebenelli/docs/research/thermo/algos/pff/pyforfluids/models/gerg2008.py:351: RuntimeWarning: invalid value encountered in log\n",
      "  lnfug = dnar_dn - np.log(z)\n",
      "/home/fedebenelli/docs/research/thermo/algos/pff/pyforfluids/models/gerg2008.py:351: RuntimeWarning: invalid value encountered in log\n",
      "  lnfug = dnar_dn - np.log(z)\n"
     ]
    },
    {
     "data": {
      "text/plain": [
       "(-1558500.0, 1558500.0)"
      ]
     },
     "execution_count": 16,
     "metadata": {},
     "output_type": "execute_result"
    },
    {
     "data": {
      "image/png": "[encoded data removed]",
      "text/plain": [
       "<Figure size 640x480 with 1 Axes>"
      ]
     },
     "metadata": {},
     "output_type": "display_data"
    }
   ],
   "source": [
    "ds = np.linspace(0.1, 10, 100)\n",
    "iso = fluid.isotherm(ds)\n",
    "\n",
    "plt.plot(iso[\"density\"], iso[\"pressure\"])\n",
    "plt.axhline(pressure)\n",
    "plt.axvline(liquid.density)\n",
    "plt.axvline(vapor.density)\n",
    "\n",
    "plt.ylim(-pressure*1.5, pressure*1.5)"
   ]
  },
  {
   "cell_type": "code",
   "execution_count": 17,
   "id": "68e25257",
   "metadata": {},
   "outputs": [],
   "source": [
    "# Using chemicals library to get pure compound properties\n",
    "pc = []\n",
    "tc = []\n",
    "w = []\n",
    "z = []\n",
    "names = []\n",
    "\n",
    "for component in composition:\n",
    "    chem = chemicals.CAS_from_any(component)\n",
    "    tc.append(chemicals.Tc(chem))\n",
    "    pc.append(chemicals.Pc(chem)/1e5)\n",
    "    w.append(chemicals.acentric.omega(chem))\n",
    "    z.append(composition[component])\n",
    "    names.append(component)"
   ]
  },
  {
   "cell_type": "code",
   "execution_count": 18,
   "id": "b6767973",
   "metadata": {},
   "outputs": [],
   "source": [
    "pr = pff.models.CubicEOS(\n",
    "    model=\"PR\",\n",
    "    mix_rule=\"ClassicVdW\",\n",
    "    names=names,\n",
    "    critical_temperature=tc,\n",
    "    critical_pressure=pc,\n",
    "    acentric_factor=w,\n",
    "    kij_matrix=np.zeros((5,5)),\n",
    "    lij_matrix=0*np.zeros((5,5))\n",
    ")"
   ]
  },
  {
   "cell_type": "code",
   "execution_count": 19,
   "id": "d6b8c1ac",
   "metadata": {},
   "outputs": [],
   "source": [
    "cfluid = fluid.copy(model=pr)"
   ]
  },
  {
   "cell_type": "code",
   "execution_count": 20,
   "id": "fce8a700",
   "metadata": {},
   "outputs": [
    {
     "name": "stderr",
     "output_type": "stream",
     "text": [
      "/home/fedebenelli/docs/research/thermo/algos/pff/pyforfluids/models/cubic.py:150: RuntimeWarning: invalid value encountered in log\n",
      "  lnfug = ar_dn / (self.r * temperature) - np.log(z)\n",
      "/home/fedebenelli/docs/research/thermo/algos/pff/pyforfluids/models/cubic.py:150: RuntimeWarning: invalid value encountered in log\n",
      "  lnfug = ar_dn / (self.r * temperature) - np.log(z)\n",
      "/home/fedebenelli/docs/research/thermo/algos/pff/pyforfluids/models/cubic.py:150: RuntimeWarning: invalid value encountered in log\n",
      "  lnfug = ar_dn / (self.r * temperature) - np.log(z)\n",
      "/home/fedebenelli/docs/research/thermo/algos/pff/pyforfluids/models/cubic.py:150: RuntimeWarning: invalid value encountered in log\n",
      "  lnfug = ar_dn / (self.r * temperature) - np.log(z)\n",
      "/home/fedebenelli/docs/research/thermo/algos/pff/pyforfluids/models/cubic.py:150: RuntimeWarning: invalid value encountered in log\n",
      "  lnfug = ar_dn / (self.r * temperature) - np.log(z)\n",
      "/home/fedebenelli/docs/research/thermo/algos/pff/pyforfluids/models/cubic.py:150: RuntimeWarning: invalid value encountered in log\n",
      "  lnfug = ar_dn / (self.r * temperature) - np.log(z)\n",
      "/home/fedebenelli/docs/research/thermo/algos/pff/pyforfluids/models/cubic.py:150: RuntimeWarning: invalid value encountered in log\n",
      "  lnfug = ar_dn / (self.r * temperature) - np.log(z)\n",
      "/home/fedebenelli/docs/research/thermo/algos/pff/pyforfluids/models/cubic.py:150: RuntimeWarning: invalid value encountered in log\n",
      "  lnfug = ar_dn / (self.r * temperature) - np.log(z)\n",
      "/home/fedebenelli/docs/research/thermo/algos/pff/pyforfluids/models/cubic.py:150: RuntimeWarning: invalid value encountered in log\n",
      "  lnfug = ar_dn / (self.r * temperature) - np.log(z)\n",
      "/home/fedebenelli/docs/research/thermo/algos/pff/pyforfluids/models/cubic.py:150: RuntimeWarning: invalid value encountered in log\n",
      "  lnfug = ar_dn / (self.r * temperature) - np.log(z)\n",
      "/home/fedebenelli/docs/research/thermo/algos/pff/pyforfluids/models/cubic.py:150: RuntimeWarning: invalid value encountered in log\n",
      "  lnfug = ar_dn / (self.r * temperature) - np.log(z)\n",
      "/home/fedebenelli/docs/research/thermo/algos/pff/pyforfluids/models/cubic.py:150: RuntimeWarning: invalid value encountered in log\n",
      "  lnfug = ar_dn / (self.r * temperature) - np.log(z)\n",
      "/home/fedebenelli/docs/research/thermo/algos/pff/pyforfluids/models/cubic.py:150: RuntimeWarning: invalid value encountered in log\n",
      "  lnfug = ar_dn / (self.r * temperature) - np.log(z)\n",
      "/home/fedebenelli/docs/research/thermo/algos/pff/pyforfluids/models/cubic.py:150: RuntimeWarning: invalid value encountered in log\n",
      "  lnfug = ar_dn / (self.r * temperature) - np.log(z)\n",
      "/home/fedebenelli/docs/research/thermo/algos/pff/pyforfluids/models/cubic.py:150: RuntimeWarning: invalid value encountered in log\n",
      "  lnfug = ar_dn / (self.r * temperature) - np.log(z)\n",
      "/home/fedebenelli/docs/research/thermo/algos/pff/pyforfluids/models/cubic.py:150: RuntimeWarning: invalid value encountered in log\n",
      "  lnfug = ar_dn / (self.r * temperature) - np.log(z)\n",
      "/home/fedebenelli/docs/research/thermo/algos/pff/pyforfluids/models/cubic.py:150: RuntimeWarning: invalid value encountered in log\n",
      "  lnfug = ar_dn / (self.r * temperature) - np.log(z)\n",
      "/home/fedebenelli/docs/research/thermo/algos/pff/pyforfluids/models/cubic.py:150: RuntimeWarning: invalid value encountered in log\n",
      "  lnfug = ar_dn / (self.r * temperature) - np.log(z)\n",
      "/home/fedebenelli/docs/research/thermo/algos/pff/pyforfluids/models/cubic.py:150: RuntimeWarning: invalid value encountered in log\n",
      "  lnfug = ar_dn / (self.r * temperature) - np.log(z)\n",
      "/home/fedebenelli/docs/research/thermo/algos/pff/pyforfluids/models/cubic.py:150: RuntimeWarning: invalid value encountered in log\n",
      "  lnfug = ar_dn / (self.r * temperature) - np.log(z)\n",
      "/home/fedebenelli/docs/research/thermo/algos/pff/pyforfluids/models/cubic.py:150: RuntimeWarning: invalid value encountered in log\n",
      "  lnfug = ar_dn / (self.r * temperature) - np.log(z)\n",
      "/home/fedebenelli/docs/research/thermo/algos/pff/pyforfluids/models/cubic.py:150: RuntimeWarning: invalid value encountered in log\n",
      "  lnfug = ar_dn / (self.r * temperature) - np.log(z)\n",
      "/home/fedebenelli/docs/research/thermo/algos/pff/pyforfluids/models/cubic.py:150: RuntimeWarning: invalid value encountered in log\n",
      "  lnfug = ar_dn / (self.r * temperature) - np.log(z)\n",
      "/home/fedebenelli/docs/research/thermo/algos/pff/pyforfluids/models/cubic.py:150: RuntimeWarning: invalid value encountered in log\n",
      "  lnfug = ar_dn / (self.r * temperature) - np.log(z)\n",
      "/home/fedebenelli/docs/research/thermo/algos/pff/pyforfluids/models/cubic.py:150: RuntimeWarning: invalid value encountered in log\n",
      "  lnfug = ar_dn / (self.r * temperature) - np.log(z)\n",
      "/home/fedebenelli/docs/research/thermo/algos/pff/pyforfluids/models/cubic.py:150: RuntimeWarning: invalid value encountered in log\n",
      "  lnfug = ar_dn / (self.r * temperature) - np.log(z)\n",
      "/home/fedebenelli/docs/research/thermo/algos/pff/pyforfluids/models/cubic.py:150: RuntimeWarning: invalid value encountered in log\n",
      "  lnfug = ar_dn / (self.r * temperature) - np.log(z)\n",
      "/home/fedebenelli/docs/research/thermo/algos/pff/pyforfluids/models/cubic.py:150: RuntimeWarning: invalid value encountered in log\n",
      "  lnfug = ar_dn / (self.r * temperature) - np.log(z)\n",
      "/home/fedebenelli/docs/research/thermo/algos/pff/pyforfluids/models/cubic.py:150: RuntimeWarning: invalid value encountered in log\n",
      "  lnfug = ar_dn / (self.r * temperature) - np.log(z)\n",
      "/home/fedebenelli/docs/research/thermo/algos/pff/pyforfluids/models/cubic.py:150: RuntimeWarning: invalid value encountered in log\n",
      "  lnfug = ar_dn / (self.r * temperature) - np.log(z)\n",
      "/home/fedebenelli/docs/research/thermo/algos/pff/pyforfluids/models/cubic.py:150: RuntimeWarning: invalid value encountered in log\n",
      "  lnfug = ar_dn / (self.r * temperature) - np.log(z)\n",
      "/home/fedebenelli/docs/research/thermo/algos/pff/pyforfluids/models/cubic.py:150: RuntimeWarning: invalid value encountered in log\n",
      "  lnfug = ar_dn / (self.r * temperature) - np.log(z)\n",
      "/home/fedebenelli/docs/research/thermo/algos/pff/pyforfluids/models/cubic.py:150: RuntimeWarning: invalid value encountered in log\n",
      "  lnfug = ar_dn / (self.r * temperature) - np.log(z)\n",
      "/home/fedebenelli/docs/research/thermo/algos/pff/pyforfluids/models/cubic.py:150: RuntimeWarning: invalid value encountered in log\n",
      "  lnfug = ar_dn / (self.r * temperature) - np.log(z)\n",
      "/home/fedebenelli/docs/research/thermo/algos/pff/pyforfluids/models/cubic.py:150: RuntimeWarning: invalid value encountered in log\n",
      "  lnfug = ar_dn / (self.r * temperature) - np.log(z)\n",
      "/home/fedebenelli/docs/research/thermo/algos/pff/pyforfluids/models/cubic.py:150: RuntimeWarning: invalid value encountered in log\n",
      "  lnfug = ar_dn / (self.r * temperature) - np.log(z)\n",
      "/home/fedebenelli/docs/research/thermo/algos/pff/pyforfluids/models/cubic.py:150: RuntimeWarning: invalid value encountered in log\n",
      "  lnfug = ar_dn / (self.r * temperature) - np.log(z)\n",
      "/home/fedebenelli/docs/research/thermo/algos/pff/pyforfluids/models/cubic.py:150: RuntimeWarning: invalid value encountered in log\n",
      "  lnfug = ar_dn / (self.r * temperature) - np.log(z)\n",
      "/home/fedebenelli/docs/research/thermo/algos/pff/pyforfluids/models/cubic.py:150: RuntimeWarning: invalid value encountered in log\n",
      "  lnfug = ar_dn / (self.r * temperature) - np.log(z)\n",
      "/home/fedebenelli/docs/research/thermo/algos/pff/pyforfluids/models/cubic.py:150: RuntimeWarning: invalid value encountered in log\n",
      "  lnfug = ar_dn / (self.r * temperature) - np.log(z)\n",
      "/home/fedebenelli/docs/research/thermo/algos/pff/pyforfluids/models/cubic.py:150: RuntimeWarning: invalid value encountered in log\n",
      "  lnfug = ar_dn / (self.r * temperature) - np.log(z)\n",
      "/home/fedebenelli/docs/research/thermo/algos/pff/pyforfluids/models/cubic.py:150: RuntimeWarning: invalid value encountered in log\n",
      "  lnfug = ar_dn / (self.r * temperature) - np.log(z)\n",
      "/home/fedebenelli/docs/research/thermo/algos/pff/pyforfluids/models/cubic.py:150: RuntimeWarning: invalid value encountered in log\n",
      "  lnfug = ar_dn / (self.r * temperature) - np.log(z)\n",
      "/home/fedebenelli/docs/research/thermo/algos/pff/pyforfluids/models/cubic.py:150: RuntimeWarning: invalid value encountered in log\n",
      "  lnfug = ar_dn / (self.r * temperature) - np.log(z)\n",
      "/home/fedebenelli/docs/research/thermo/algos/pff/pyforfluids/models/cubic.py:150: RuntimeWarning: invalid value encountered in log\n",
      "  lnfug = ar_dn / (self.r * temperature) - np.log(z)\n",
      "/home/fedebenelli/docs/research/thermo/algos/pff/pyforfluids/models/cubic.py:150: RuntimeWarning: invalid value encountered in log\n",
      "  lnfug = ar_dn / (self.r * temperature) - np.log(z)\n",
      "/home/fedebenelli/docs/research/thermo/algos/pff/pyforfluids/models/cubic.py:150: RuntimeWarning: invalid value encountered in log\n",
      "  lnfug = ar_dn / (self.r * temperature) - np.log(z)\n",
      "/home/fedebenelli/docs/research/thermo/algos/pff/pyforfluids/models/cubic.py:150: RuntimeWarning: invalid value encountered in log\n",
      "  lnfug = ar_dn / (self.r * temperature) - np.log(z)\n",
      "/home/fedebenelli/docs/research/thermo/algos/pff/pyforfluids/models/cubic.py:150: RuntimeWarning: invalid value encountered in log\n",
      "  lnfug = ar_dn / (self.r * temperature) - np.log(z)\n",
      "/home/fedebenelli/docs/research/thermo/algos/pff/pyforfluids/models/cubic.py:150: RuntimeWarning: invalid value encountered in log\n",
      "  lnfug = ar_dn / (self.r * temperature) - np.log(z)\n",
      "/home/fedebenelli/docs/research/thermo/algos/pff/pyforfluids/models/cubic.py:150: RuntimeWarning: invalid value encountered in log\n",
      "  lnfug = ar_dn / (self.r * temperature) - np.log(z)\n"
     ]
    }
   ],
   "source": [
    "ciso = cfluid.isotherm(ds)"
   ]
  },
  {
   "cell_type": "code",
   "execution_count": 21,
   "id": "60126e06",
   "metadata": {},
   "outputs": [
    {
     "data": {
      "text/plain": [
       "(-1000000.0, 20000000.0)"
      ]
     },
     "execution_count": 21,
     "metadata": {},
     "output_type": "execute_result"
    },
    {
     "data": {
      "image/png": "[encoded data removed]",
      "text/plain": [
       "<Figure size 640x480 with 1 Axes>"
      ]
     },
     "metadata": {},
     "output_type": "display_data"
    }
   ],
   "source": [
    "plt.plot(iso[\"density\"], iso[\"pressure\"])\n",
    "plt.plot(ciso[\"density\"], ciso[\"pressure\"])\n",
    "plt.ylim(-1e6, 0.2e8)"
   ]
  },
  {
   "cell_type": "code",
   "execution_count": 22,
   "id": "cd8e4437",
   "metadata": {},
   "outputs": [],
   "source": [
    "cvapor, cliquid, cbeta, it = flash_pt(cfluid, pressure, temperature)"
   ]
  },
  {
   "cell_type": "code",
   "execution_count": 23,
   "id": "76bda54b",
   "metadata": {},
   "outputs": [
    {
     "data": {
      "text/plain": [
       "Fluid(model=Cubic EoS: PR, temperature=366.48, pressure=1039000.0000, density=0.4246, composition={'propane': 0.02368936, 'butane': 0.59963775, 'isobutane': 0.21662462, 'pentane': 0.11869091, 'hexane': 0.04135238})"
      ]
     },
     "execution_count": 23,
     "metadata": {},
     "output_type": "execute_result"
    }
   ],
   "source": [
    "cvapor"
   ]
  },
  {
   "cell_type": "code",
   "execution_count": 24,
   "id": "5195b8db",
   "metadata": {},
   "outputs": [
    {
     "data": {
      "text/plain": [
       "Fluid(model=Cubic EoS: PR, temperature=366.48, pressure=1039000.0002, density=7.9639, composition={'propane': 0.00897916, 'butane': 0.49256981, 'isobutane': 0.14503167, 'pentane': 0.20606339, 'hexane': 0.14735636})"
      ]
     },
     "execution_count": 24,
     "metadata": {},
     "output_type": "execute_result"
    }
   ],
   "source": [
    "cliquid"
   ]
  },
  {
   "cell_type": "code",
   "execution_count": 25,
   "id": "56694a79",
   "metadata": {},
   "outputs": [
    {
     "data": {
      "text/plain": [
       "0.06939697265625"
      ]
     },
     "execution_count": 25,
     "metadata": {},
     "output_type": "execute_result"
    }
   ],
   "source": [
    "cbeta"
   ]
  },
  {
   "cell_type": "code",
   "execution_count": 26,
   "id": "0d787680",
   "metadata": {},
   "outputs": [
    {
     "data": {
      "text/plain": [
       "{'propane': 0.02368936,\n",
       " 'butane': 0.59963775,\n",
       " 'isobutane': 0.21662462,\n",
       " 'pentane': 0.11869091,\n",
       " 'hexane': 0.04135238}"
      ]
     },
     "execution_count": 26,
     "metadata": {},
     "output_type": "execute_result"
    }
   ],
   "source": [
    "cvapor.composition"
   ]
  },
  {
   "cell_type": "code",
   "execution_count": 27,
   "id": "511dd006",
   "metadata": {},
   "outputs": [
    {
     "data": {
      "text/plain": [
       "{'propane': 0.02405919,\n",
       " 'butane': 0.59222959,\n",
       " 'isobutane': 0.22051554,\n",
       " 'pentane': 0.11992022,\n",
       " 'hexane': 0.04327129}"
      ]
     },
     "execution_count": 27,
     "metadata": {},
     "output_type": "execute_result"
    }
   ],
   "source": [
    "vapor.composition"
   ]
  },
  {
   "cell_type": "code",
   "execution_count": 28,
   "id": "4649348d",
   "metadata": {},
   "outputs": [
    {
     "data": {
      "text/plain": [
       "[<matplotlib.lines.Line2D at 0x7f0618877fd0>]"
      ]
     },
     "execution_count": 28,
     "metadata": {},
     "output_type": "execute_result"
    },
    {
     "data": {
      "image/png": "[encoded data removed]",
      "text/plain": [
       "<Figure size 640x480 with 1 Axes>"
      ]
     },
     "metadata": {},
     "output_type": "display_data"
    }
   ],
   "source": [
    "plt.plot(ciso[\"density\"], ciso[\"lnfug\"].apply(lambda x: x[4]))\n",
    "plt.plot(iso[\"density\"], iso[\"lnfug\"].apply(lambda x: x[4]))"
   ]
  },
  {
   "cell_type": "code",
   "execution_count": 67,
   "id": "788d7cb6",
   "metadata": {},
   "outputs": [
    {
     "name": "stderr",
     "output_type": "stream",
     "text": [
      "/tmp/ipykernel_810845/2389725898.py:1: RuntimeWarning: invalid value encountered in true_divide\n",
      "  k = gfluid.model.set_concentration(vapor.composition)/gfluid.model.set_concentration(liquid.composition)\n"
     ]
    }
   ],
   "source": [
    "k = gfluid.model.set_concentration(vapor.composition)/gfluid.model.set_concentration(liquid.composition)"
   ]
  },
  {
   "cell_type": "code",
   "execution_count": 68,
   "id": "c33c2e5a",
   "metadata": {},
   "outputs": [],
   "source": [
    "z = gfluid.model.set_concentration(gfluid.composition)"
   ]
  },
  {
   "cell_type": "code",
   "execution_count": 69,
   "id": "46f9164c",
   "metadata": {},
   "outputs": [],
   "source": [
    "msk = np.isnan(k)\n",
    "k = k[~msk]\n",
    "z = z[~msk]"
   ]
  },
  {
   "cell_type": "code",
   "execution_count": 70,
   "id": "4e161dc3",
   "metadata": {
    "scrolled": true
   },
   "outputs": [
    {
     "data": {
      "text/plain": [
       "array([2.69667746, 1.2014553 , 1.52508674, 0.58173779, 0.2935275 ])"
      ]
     },
     "execution_count": 70,
     "metadata": {},
     "output_type": "execute_result"
    }
   ],
   "source": [
    "k"
   ]
  },
  {
   "cell_type": "code",
   "execution_count": 71,
   "id": "9043c8b9",
   "metadata": {},
   "outputs": [
    {
     "data": {
      "text/plain": [
       "array([0.01, 0.5 , 0.15, 0.2 , 0.14])"
      ]
     },
     "execution_count": 71,
     "metadata": {},
     "output_type": "execute_result"
    }
   ],
   "source": [
    "z"
   ]
  },
  {
   "cell_type": "code",
   "execution_count": 77,
   "id": "35a2e960",
   "metadata": {},
   "outputs": [
    {
     "data": {
      "text/plain": [
       "(array([0.01, 0.5 , 0.15, 0.2 , 0.14]),\n",
       " array([0.01, 0.5 , 0.15, 0.2 , 0.14]),\n",
       " 1,\n",
       " 1)"
      ]
     },
     "execution_count": 77,
     "metadata": {},
     "output_type": "execute_result"
    }
   ],
   "source": [
    "pff.equilibrium.solve_rr(z, k*2)"
   ]
  },
  {
   "cell_type": "code",
   "execution_count": 78,
   "id": "5a9e36c2",
   "metadata": {},
   "outputs": [
    {
     "data": {
      "text/plain": [
       "array([5.39335492, 2.40291061, 3.05017348, 1.16347559, 0.587055  ])"
      ]
     },
     "execution_count": 78,
     "metadata": {},
     "output_type": "execute_result"
    }
   ],
   "source": [
    "k*2"
   ]
  },
  {
   "cell_type": "code",
   "execution_count": 86,
   "id": "c7e3c59e",
   "metadata": {
    "scrolled": true
   },
   "outputs": [
    {
     "ename": "ValueError",
     "evalue": "f(a) and f(b) must have different signs",
     "output_type": "error",
     "traceback": [
      "\u001b[0;31m---------------------------------------------------------------------------\u001b[0m",
      "\u001b[0;31mValueError\u001b[0m                                Traceback (most recent call last)",
      "Cell \u001b[0;32mIn [86], line 1\u001b[0m\n\u001b[0;32m----> 1\u001b[0m \u001b[43mpff\u001b[49m\u001b[38;5;241;43m.\u001b[39;49m\u001b[43mequilibrium\u001b[49m\u001b[38;5;241;43m.\u001b[39;49m\u001b[43mbub_t\u001b[49m\u001b[43m(\u001b[49m\u001b[43mgfluid\u001b[49m\u001b[43m,\u001b[49m\u001b[43m \u001b[49m\u001b[43mpressure\u001b[49m\u001b[43m)\u001b[49m\n",
      "File \u001b[0;32m~/docs/research/thermo/algos/pff/pyforfluids/equilibrium/flash.py:402\u001b[0m, in \u001b[0;36mbub_t\u001b[0;34m(fluid, pressure, iterations, rtol, atol)\u001b[0m\n\u001b[1;32m    399\u001b[0m vapor \u001b[38;5;241m=\u001b[39m fluid\u001b[38;5;241m.\u001b[39mcopy()\n\u001b[1;32m    401\u001b[0m \u001b[38;5;66;03m# Wilson init\u001b[39;00m\n\u001b[0;32m--> 402\u001b[0m t_i \u001b[38;5;241m=\u001b[39m \u001b[43msolve_wilson_temp\u001b[49m\u001b[43m(\u001b[49m\u001b[43mz\u001b[49m\u001b[43m,\u001b[49m\u001b[43m \u001b[49m\u001b[43mpressure\u001b[49m\u001b[43m)\u001b[49m\n\u001b[1;32m    403\u001b[0m k_i \u001b[38;5;241m=\u001b[39m k_wilson(z, pressure, t_i)\n\u001b[1;32m    404\u001b[0m x \u001b[38;5;241m=\u001b[39m z\n",
      "File \u001b[0;32m~/docs/research/thermo/algos/pff/pyforfluids/equilibrium/flash.py:376\u001b[0m, in \u001b[0;36mbub_t.<locals>.solve_wilson_temp\u001b[0;34m(z, pressure)\u001b[0m\n\u001b[1;32m    373\u001b[0m     k \u001b[38;5;241m=\u001b[39m k_wilson(fluid)\n\u001b[1;32m    374\u001b[0m     \u001b[38;5;28;01mreturn\u001b[39;00m np\u001b[38;5;241m.\u001b[39mdot(z, k) \u001b[38;5;241m-\u001b[39m \u001b[38;5;241m1\u001b[39m\n\u001b[0;32m--> 376\u001b[0m temperature \u001b[38;5;241m=\u001b[39m \u001b[43mroot_scalar\u001b[49m\u001b[43m(\u001b[49m\n\u001b[1;32m    377\u001b[0m \u001b[43m    \u001b[49m\u001b[43mf\u001b[49m\u001b[43m,\u001b[49m\u001b[43m \u001b[49m\u001b[43margs\u001b[49m\u001b[38;5;241;43m=\u001b[39;49m\u001b[43m(\u001b[49m\u001b[43mz\u001b[49m\u001b[43m,\u001b[49m\u001b[43m \u001b[49m\u001b[43mpressure\u001b[49m\u001b[43m)\u001b[49m\u001b[43m,\u001b[49m\u001b[43m \u001b[49m\u001b[43mmethod\u001b[49m\u001b[38;5;241;43m=\u001b[39;49m\u001b[38;5;124;43m\"\u001b[39;49m\u001b[38;5;124;43mbrentq\u001b[39;49m\u001b[38;5;124;43m\"\u001b[39;49m\u001b[43m,\u001b[49m\u001b[43m \u001b[49m\u001b[43mx0\u001b[49m\u001b[38;5;241;43m=\u001b[39;49m\u001b[38;5;241;43m250\u001b[39;49m\u001b[43m,\u001b[49m\u001b[43m \u001b[49m\u001b[43mbracket\u001b[49m\u001b[38;5;241;43m=\u001b[39;49m\u001b[43m(\u001b[49m\u001b[38;5;241;43m1\u001b[39;49m\u001b[43m,\u001b[49m\u001b[43m \u001b[49m\u001b[38;5;241;43m1000\u001b[39;49m\u001b[43m)\u001b[49m\n\u001b[1;32m    378\u001b[0m \u001b[43m\u001b[49m\u001b[43m)\u001b[49m\n\u001b[1;32m    379\u001b[0m \u001b[38;5;28;01mreturn\u001b[39;00m temperature\u001b[38;5;241m.\u001b[39mroot\n",
      "File \u001b[0;32m~/docs/programming/python/virtualenvs/gtf/pff/lib/python3.10/site-packages/scipy/optimize/_root_scalar.py:249\u001b[0m, in \u001b[0;36mroot_scalar\u001b[0;34m(f, args, method, bracket, fprime, fprime2, x0, x1, xtol, rtol, maxiter, options)\u001b[0m\n\u001b[1;32m    246\u001b[0m         \u001b[38;5;28;01mraise\u001b[39;00m \u001b[38;5;167;01mValueError\u001b[39;00m(\u001b[38;5;124m'\u001b[39m\u001b[38;5;124mBracket needed for \u001b[39m\u001b[38;5;132;01m%s\u001b[39;00m\u001b[38;5;124m'\u001b[39m \u001b[38;5;241m%\u001b[39m method)\n\u001b[1;32m    248\u001b[0m     a, b \u001b[38;5;241m=\u001b[39m bracket[:\u001b[38;5;241m2\u001b[39m]\n\u001b[0;32m--> 249\u001b[0m     r, sol \u001b[38;5;241m=\u001b[39m \u001b[43mmethodc\u001b[49m\u001b[43m(\u001b[49m\u001b[43mf\u001b[49m\u001b[43m,\u001b[49m\u001b[43m \u001b[49m\u001b[43ma\u001b[49m\u001b[43m,\u001b[49m\u001b[43m \u001b[49m\u001b[43mb\u001b[49m\u001b[43m,\u001b[49m\u001b[43m \u001b[49m\u001b[43margs\u001b[49m\u001b[38;5;241;43m=\u001b[39;49m\u001b[43margs\u001b[49m\u001b[43m,\u001b[49m\u001b[43m \u001b[49m\u001b[38;5;241;43m*\u001b[39;49m\u001b[38;5;241;43m*\u001b[39;49m\u001b[43mkwargs\u001b[49m\u001b[43m)\u001b[49m\n\u001b[1;32m    250\u001b[0m \u001b[38;5;28;01melif\u001b[39;00m meth \u001b[38;5;129;01min\u001b[39;00m [\u001b[38;5;124m'\u001b[39m\u001b[38;5;124msecant\u001b[39m\u001b[38;5;124m'\u001b[39m]:\n\u001b[1;32m    251\u001b[0m     \u001b[38;5;28;01mif\u001b[39;00m x0 \u001b[38;5;129;01mis\u001b[39;00m \u001b[38;5;28;01mNone\u001b[39;00m:\n",
      "File \u001b[0;32m~/docs/programming/python/virtualenvs/gtf/pff/lib/python3.10/site-packages/scipy/optimize/_zeros_py.py:783\u001b[0m, in \u001b[0;36mbrentq\u001b[0;34m(f, a, b, args, xtol, rtol, maxiter, full_output, disp)\u001b[0m\n\u001b[1;32m    781\u001b[0m \u001b[38;5;28;01mif\u001b[39;00m rtol \u001b[38;5;241m<\u001b[39m _rtol:\n\u001b[1;32m    782\u001b[0m     \u001b[38;5;28;01mraise\u001b[39;00m \u001b[38;5;167;01mValueError\u001b[39;00m(\u001b[38;5;124m\"\u001b[39m\u001b[38;5;124mrtol too small (\u001b[39m\u001b[38;5;132;01m%g\u001b[39;00m\u001b[38;5;124m < \u001b[39m\u001b[38;5;132;01m%g\u001b[39;00m\u001b[38;5;124m)\u001b[39m\u001b[38;5;124m\"\u001b[39m \u001b[38;5;241m%\u001b[39m (rtol, _rtol))\n\u001b[0;32m--> 783\u001b[0m r \u001b[38;5;241m=\u001b[39m \u001b[43m_zeros\u001b[49m\u001b[38;5;241;43m.\u001b[39;49m\u001b[43m_brentq\u001b[49m\u001b[43m(\u001b[49m\u001b[43mf\u001b[49m\u001b[43m,\u001b[49m\u001b[43m \u001b[49m\u001b[43ma\u001b[49m\u001b[43m,\u001b[49m\u001b[43m \u001b[49m\u001b[43mb\u001b[49m\u001b[43m,\u001b[49m\u001b[43m \u001b[49m\u001b[43mxtol\u001b[49m\u001b[43m,\u001b[49m\u001b[43m \u001b[49m\u001b[43mrtol\u001b[49m\u001b[43m,\u001b[49m\u001b[43m \u001b[49m\u001b[43mmaxiter\u001b[49m\u001b[43m,\u001b[49m\u001b[43m \u001b[49m\u001b[43margs\u001b[49m\u001b[43m,\u001b[49m\u001b[43m \u001b[49m\u001b[43mfull_output\u001b[49m\u001b[43m,\u001b[49m\u001b[43m \u001b[49m\u001b[43mdisp\u001b[49m\u001b[43m)\u001b[49m\n\u001b[1;32m    784\u001b[0m \u001b[38;5;28;01mreturn\u001b[39;00m results_c(full_output, r)\n",
      "\u001b[0;31mValueError\u001b[0m: f(a) and f(b) must have different signs"
     ]
    }
   ],
   "source": [
    "pff.equilibrium.bub_t(gfluid, pressure)"
   ]
  },
  {
   "cell_type": "code",
   "execution_count": 89,
   "id": "3632a0cd",
   "metadata": {},
   "outputs": [
    {
     "ename": "ValueError",
     "evalue": "f(a) and f(b) must have different signs",
     "output_type": "error",
     "traceback": [
      "\u001b[0;31m---------------------------------------------------------------------------\u001b[0m",
      "\u001b[0;31mValueError\u001b[0m                                Traceback (most recent call last)",
      "Cell \u001b[0;32mIn [89], line 1\u001b[0m\n\u001b[0;32m----> 1\u001b[0m \u001b[43mpff\u001b[49m\u001b[38;5;241;43m.\u001b[39;49m\u001b[43mequilibrium\u001b[49m\u001b[38;5;241;43m.\u001b[39;49m\u001b[43mbub_t\u001b[49m\u001b[43m(\u001b[49m\u001b[43mgfluid\u001b[49m\u001b[43m,\u001b[49m\u001b[43m \u001b[49m\u001b[43mpressure\u001b[49m\u001b[43m)\u001b[49m\n",
      "File \u001b[0;32m~/docs/research/thermo/algos/pff/pyforfluids/equilibrium/flash.py:402\u001b[0m, in \u001b[0;36mbub_t\u001b[0;34m(fluid, pressure, iterations, rtol, atol)\u001b[0m\n\u001b[1;32m    399\u001b[0m vapor \u001b[38;5;241m=\u001b[39m fluid\u001b[38;5;241m.\u001b[39mcopy()\n\u001b[1;32m    401\u001b[0m \u001b[38;5;66;03m# Wilson init\u001b[39;00m\n\u001b[0;32m--> 402\u001b[0m t_i \u001b[38;5;241m=\u001b[39m \u001b[43msolve_wilson_temp\u001b[49m\u001b[43m(\u001b[49m\u001b[43mz\u001b[49m\u001b[43m,\u001b[49m\u001b[43m \u001b[49m\u001b[43mpressure\u001b[49m\u001b[43m)\u001b[49m\n\u001b[1;32m    403\u001b[0m k_i \u001b[38;5;241m=\u001b[39m k_wilson(z, pressure, t_i)\n\u001b[1;32m    404\u001b[0m x \u001b[38;5;241m=\u001b[39m z\n",
      "File \u001b[0;32m~/docs/research/thermo/algos/pff/pyforfluids/equilibrium/flash.py:376\u001b[0m, in \u001b[0;36mbub_t.<locals>.solve_wilson_temp\u001b[0;34m(z, pressure)\u001b[0m\n\u001b[1;32m    373\u001b[0m     k \u001b[38;5;241m=\u001b[39m k_wilson(fluid)\n\u001b[1;32m    374\u001b[0m     \u001b[38;5;28;01mreturn\u001b[39;00m np\u001b[38;5;241m.\u001b[39mdot(z, k) \u001b[38;5;241m-\u001b[39m \u001b[38;5;241m1\u001b[39m\n\u001b[0;32m--> 376\u001b[0m temperature \u001b[38;5;241m=\u001b[39m \u001b[43mroot_scalar\u001b[49m\u001b[43m(\u001b[49m\n\u001b[1;32m    377\u001b[0m \u001b[43m    \u001b[49m\u001b[43mf\u001b[49m\u001b[43m,\u001b[49m\u001b[43m \u001b[49m\u001b[43margs\u001b[49m\u001b[38;5;241;43m=\u001b[39;49m\u001b[43m(\u001b[49m\u001b[43mz\u001b[49m\u001b[43m,\u001b[49m\u001b[43m \u001b[49m\u001b[43mpressure\u001b[49m\u001b[43m)\u001b[49m\u001b[43m,\u001b[49m\u001b[43m \u001b[49m\u001b[43mmethod\u001b[49m\u001b[38;5;241;43m=\u001b[39;49m\u001b[38;5;124;43m\"\u001b[39;49m\u001b[38;5;124;43mbrentq\u001b[39;49m\u001b[38;5;124;43m\"\u001b[39;49m\u001b[43m,\u001b[49m\u001b[43m \u001b[49m\u001b[43mx0\u001b[49m\u001b[38;5;241;43m=\u001b[39;49m\u001b[38;5;241;43m250\u001b[39;49m\u001b[43m,\u001b[49m\u001b[43m \u001b[49m\u001b[43mbracket\u001b[49m\u001b[38;5;241;43m=\u001b[39;49m\u001b[43m(\u001b[49m\u001b[38;5;241;43m1\u001b[39;49m\u001b[43m,\u001b[49m\u001b[43m \u001b[49m\u001b[38;5;241;43m1000\u001b[39;49m\u001b[43m)\u001b[49m\n\u001b[1;32m    378\u001b[0m \u001b[43m\u001b[49m\u001b[43m)\u001b[49m\n\u001b[1;32m    379\u001b[0m \u001b[38;5;28;01mreturn\u001b[39;00m temperature\u001b[38;5;241m.\u001b[39mroot\n",
      "File \u001b[0;32m~/docs/programming/python/virtualenvs/gtf/pff/lib/python3.10/site-packages/scipy/optimize/_root_scalar.py:249\u001b[0m, in \u001b[0;36mroot_scalar\u001b[0;34m(f, args, method, bracket, fprime, fprime2, x0, x1, xtol, rtol, maxiter, options)\u001b[0m\n\u001b[1;32m    246\u001b[0m         \u001b[38;5;28;01mraise\u001b[39;00m \u001b[38;5;167;01mValueError\u001b[39;00m(\u001b[38;5;124m'\u001b[39m\u001b[38;5;124mBracket needed for \u001b[39m\u001b[38;5;132;01m%s\u001b[39;00m\u001b[38;5;124m'\u001b[39m \u001b[38;5;241m%\u001b[39m method)\n\u001b[1;32m    248\u001b[0m     a, b \u001b[38;5;241m=\u001b[39m bracket[:\u001b[38;5;241m2\u001b[39m]\n\u001b[0;32m--> 249\u001b[0m     r, sol \u001b[38;5;241m=\u001b[39m \u001b[43mmethodc\u001b[49m\u001b[43m(\u001b[49m\u001b[43mf\u001b[49m\u001b[43m,\u001b[49m\u001b[43m \u001b[49m\u001b[43ma\u001b[49m\u001b[43m,\u001b[49m\u001b[43m \u001b[49m\u001b[43mb\u001b[49m\u001b[43m,\u001b[49m\u001b[43m \u001b[49m\u001b[43margs\u001b[49m\u001b[38;5;241;43m=\u001b[39;49m\u001b[43margs\u001b[49m\u001b[43m,\u001b[49m\u001b[43m \u001b[49m\u001b[38;5;241;43m*\u001b[39;49m\u001b[38;5;241;43m*\u001b[39;49m\u001b[43mkwargs\u001b[49m\u001b[43m)\u001b[49m\n\u001b[1;32m    250\u001b[0m \u001b[38;5;28;01melif\u001b[39;00m meth \u001b[38;5;129;01min\u001b[39;00m [\u001b[38;5;124m'\u001b[39m\u001b[38;5;124msecant\u001b[39m\u001b[38;5;124m'\u001b[39m]:\n\u001b[1;32m    251\u001b[0m     \u001b[38;5;28;01mif\u001b[39;00m x0 \u001b[38;5;129;01mis\u001b[39;00m \u001b[38;5;28;01mNone\u001b[39;00m:\n",
      "File \u001b[0;32m~/docs/programming/python/virtualenvs/gtf/pff/lib/python3.10/site-packages/scipy/optimize/_zeros_py.py:783\u001b[0m, in \u001b[0;36mbrentq\u001b[0;34m(f, a, b, args, xtol, rtol, maxiter, full_output, disp)\u001b[0m\n\u001b[1;32m    781\u001b[0m \u001b[38;5;28;01mif\u001b[39;00m rtol \u001b[38;5;241m<\u001b[39m _rtol:\n\u001b[1;32m    782\u001b[0m     \u001b[38;5;28;01mraise\u001b[39;00m \u001b[38;5;167;01mValueError\u001b[39;00m(\u001b[38;5;124m\"\u001b[39m\u001b[38;5;124mrtol too small (\u001b[39m\u001b[38;5;132;01m%g\u001b[39;00m\u001b[38;5;124m < \u001b[39m\u001b[38;5;132;01m%g\u001b[39;00m\u001b[38;5;124m)\u001b[39m\u001b[38;5;124m\"\u001b[39m \u001b[38;5;241m%\u001b[39m (rtol, _rtol))\n\u001b[0;32m--> 783\u001b[0m r \u001b[38;5;241m=\u001b[39m \u001b[43m_zeros\u001b[49m\u001b[38;5;241;43m.\u001b[39;49m\u001b[43m_brentq\u001b[49m\u001b[43m(\u001b[49m\u001b[43mf\u001b[49m\u001b[43m,\u001b[49m\u001b[43m \u001b[49m\u001b[43ma\u001b[49m\u001b[43m,\u001b[49m\u001b[43m \u001b[49m\u001b[43mb\u001b[49m\u001b[43m,\u001b[49m\u001b[43m \u001b[49m\u001b[43mxtol\u001b[49m\u001b[43m,\u001b[49m\u001b[43m \u001b[49m\u001b[43mrtol\u001b[49m\u001b[43m,\u001b[49m\u001b[43m \u001b[49m\u001b[43mmaxiter\u001b[49m\u001b[43m,\u001b[49m\u001b[43m \u001b[49m\u001b[43margs\u001b[49m\u001b[43m,\u001b[49m\u001b[43m \u001b[49m\u001b[43mfull_output\u001b[49m\u001b[43m,\u001b[49m\u001b[43m \u001b[49m\u001b[43mdisp\u001b[49m\u001b[43m)\u001b[49m\n\u001b[1;32m    784\u001b[0m \u001b[38;5;28;01mreturn\u001b[39;00m results_c(full_output, r)\n",
      "\u001b[0;31mValueError\u001b[0m: f(a) and f(b) must have different signs"
     ]
    }
   ],
   "source": [
    "pff.equilibrium.bub_t(gfluid, pressure)"
   ]
  },
  {
   "cell_type": "code",
   "execution_count": null,
   "id": "b80b3e4b",
   "metadata": {},
   "outputs": [],
   "source": []
  }
 ],
 "metadata": {
  "kernelspec": {
   "display_name": "Python 3 (ipykernel)",
   "language": "python",
   "name": "python3"
  },
  "language_info": {
   "codemirror_mode": {
    "name": "ipython",
    "version": 3
   },
   "file_extension": ".py",
   "mimetype": "text/x-python",
   "name": "python",
   "nbconvert_exporter": "python",
   "pygments_lexer": "ipython3",
   "version": "3.10.5"
  }
 },
 "nbformat": 4,
 "nbformat_minor": 5
}
