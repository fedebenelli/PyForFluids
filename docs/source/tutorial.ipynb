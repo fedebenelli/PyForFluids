{
 "cells": [
  {
   "cell_type": "markdown",
   "id": "ac0ecbee",
   "metadata": {},
   "source": [
    "# Tutorial"
   ]
  },
  {
   "cell_type": "markdown",
   "id": "72e7501a",
   "metadata": {},
   "source": [
    "## Relevant imports"
   ]
  },
  {
   "cell_type": "code",
   "execution_count": 4,
   "id": "fddc4e9a",
   "metadata": {},
   "outputs": [],
   "source": [
    "import matplotlib.pyplot as plt\n",
    "import numpy as np\n",
    "import pyforfluids as pff"
   ]
  },
  {
   "cell_type": "markdown",
   "id": "46eb1678",
   "metadata": {},
   "source": [
    "## Definition of the model to be used"
   ]
  },
  {
   "cell_type": "code",
   "execution_count": 5,
   "id": "b524a444",
   "metadata": {},
   "outputs": [],
   "source": [
    "model = pff.models.GERG2008()"
   ]
  },
  {
   "cell_type": "markdown",
   "id": "c7ef886c",
   "metadata": {},
   "source": [
    "## Fluid's initial state"
   ]
  },
  {
   "cell_type": "code",
   "execution_count": 6,
   "id": "f2b65b20",
   "metadata": {},
   "outputs": [],
   "source": [
    "temperature = 150  # Degrees Kelvin\n",
    "density = 1  # mol/L\n",
    "pressure = 101325  # Pa\n",
    "composition = {'methane': 0.9, 'ethane': 0.05, 'propane': 0.05}  # Molar fractions"
   ]
  },
  {
   "cell_type": "markdown",
   "id": "f7a1489b",
   "metadata": {},
   "source": [
    "### Definition of the fluid\n",
    "The properties will be calculated at the moment of the object definition."
   ]
  },
  {
   "cell_type": "code",
   "execution_count": 7,
   "id": "73c99281",
   "metadata": {
    "code_folding": []
   },
   "outputs": [],
   "source": [
    "fluid = pff.Fluid(\n",
    "    model=model,\n",
    "    composition=composition,\n",
    "    temperature=temperature,\n",
    "    density=density\n",
    ")"
   ]
  },
  {
   "cell_type": "markdown",
   "id": "232c3f94",
   "metadata": {},
   "source": [
    "#### Pressure as an init variable\n",
    "Pressure can be used as an initial variable, in this case the method `fluid.density_iterator` will be called internally to find the root of density at the given pressure, since all models use density as an independent variable instead of temperature. \n",
    "\n",
    "This can lead to trouble since multiple roots can be obtained in the equilibrium region!"
   ]
  },
  {
   "cell_type": "code",
   "execution_count": 8,
   "id": "dcb28943",
   "metadata": {},
   "outputs": [
    {
     "ename": "ModuleNotFoundError",
     "evalue": "No module named 'ipdb'",
     "output_type": "error",
     "traceback": [
      "\u001b[0;31m---------------------------------------------------------------------------\u001b[0m",
      "\u001b[0;31mModuleNotFoundError\u001b[0m                       Traceback (most recent call last)",
      "Cell \u001b[0;32mIn [8], line 1\u001b[0m\n\u001b[0;32m----> 1\u001b[0m fluid \u001b[38;5;241m=\u001b[39m \u001b[43mpff\u001b[49m\u001b[38;5;241;43m.\u001b[39;49m\u001b[43mFluid\u001b[49m\u001b[43m(\u001b[49m\n\u001b[1;32m      2\u001b[0m \u001b[43m    \u001b[49m\u001b[43mmodel\u001b[49m\u001b[38;5;241;43m=\u001b[39;49m\u001b[43mmodel\u001b[49m\u001b[43m,\u001b[49m\n\u001b[1;32m      3\u001b[0m \u001b[43m    \u001b[49m\u001b[43mcomposition\u001b[49m\u001b[38;5;241;43m=\u001b[39;49m\u001b[43mcomposition\u001b[49m\u001b[43m,\u001b[49m\n\u001b[1;32m      4\u001b[0m \u001b[43m    \u001b[49m\u001b[43mtemperature\u001b[49m\u001b[38;5;241;43m=\u001b[39;49m\u001b[43mtemperature\u001b[49m\u001b[43m,\u001b[49m\n\u001b[1;32m      5\u001b[0m \u001b[43m    \u001b[49m\u001b[43mpressure\u001b[49m\u001b[38;5;241;43m=\u001b[39;49m\u001b[43mpressure\u001b[49m\n\u001b[1;32m      6\u001b[0m \u001b[43m)\u001b[49m\n",
      "File \u001b[0;32m~/docs/research/thermo/algos/pff/pyforfluids/core.py:81\u001b[0m, in \u001b[0;36mFluid.__init__\u001b[0;34m(self, model, composition, temperature, pressure, density)\u001b[0m\n\u001b[1;32m     79\u001b[0m \u001b[38;5;66;03m# If no density was given calculate it and use the gas value\u001b[39;00m\n\u001b[1;32m     80\u001b[0m \u001b[38;5;28;01mif\u001b[39;00m density \u001b[38;5;129;01mis\u001b[39;00m \u001b[38;5;28;01mNone\u001b[39;00m:\n\u001b[0;32m---> 81\u001b[0m     \u001b[38;5;28;43mself\u001b[39;49m\u001b[38;5;241;43m.\u001b[39;49m\u001b[43mset_pressure\u001b[49m\u001b[43m(\u001b[49m\u001b[43mpressure\u001b[49m\u001b[43m)\u001b[49m\n\u001b[1;32m     83\u001b[0m \u001b[38;5;28mself\u001b[39m\u001b[38;5;241m.\u001b[39mcalculate_properties()\n\u001b[1;32m     84\u001b[0m \u001b[38;5;28mself\u001b[39m\u001b[38;5;241m.\u001b[39mpressure \u001b[38;5;241m=\u001b[39m \u001b[38;5;28mself\u001b[39m[\u001b[38;5;124m\"\u001b[39m\u001b[38;5;124mpressure\u001b[39m\u001b[38;5;124m\"\u001b[39m]\n",
      "File \u001b[0;32m~/docs/research/thermo/algos/pff/pyforfluids/core.py:147\u001b[0m, in \u001b[0;36mFluid.set_pressure\u001b[0;34m(self, pressure)\u001b[0m\n\u001b[1;32m    145\u001b[0m \u001b[38;5;28mself\u001b[39m\u001b[38;5;241m.\u001b[39mpressure \u001b[38;5;241m=\u001b[39m pressure\n\u001b[1;32m    146\u001b[0m \u001b[38;5;28mself\u001b[39m\u001b[38;5;241m.\u001b[39mdensity \u001b[38;5;241m=\u001b[39m np\u001b[38;5;241m.\u001b[39mnan\n\u001b[0;32m--> 147\u001b[0m liquid_density, vapor_density, single_fase \u001b[38;5;241m=\u001b[39m \u001b[38;5;28;43mself\u001b[39;49m\u001b[38;5;241;43m.\u001b[39;49m\u001b[43mdensity_iterator\u001b[49m\u001b[43m(\u001b[49m\n\u001b[1;32m    148\u001b[0m \u001b[43m    \u001b[49m\u001b[43mpressure\u001b[49m\n\u001b[1;32m    149\u001b[0m \u001b[43m\u001b[49m\u001b[43m)\u001b[49m\n\u001b[1;32m    151\u001b[0m \u001b[38;5;28;01mif\u001b[39;00m \u001b[38;5;129;01mnot\u001b[39;00m single_fase:\n\u001b[1;32m    152\u001b[0m     warnings\u001b[38;5;241m.\u001b[39mwarn(\n\u001b[1;32m    153\u001b[0m         \u001b[38;5;124m\"\u001b[39m\u001b[38;5;124mTwo roots were found! Vapor-phase value will be used\u001b[39m\u001b[38;5;124m\"\u001b[39m,\n\u001b[1;32m    154\u001b[0m         category\u001b[38;5;241m=\u001b[39m\u001b[38;5;167;01mUserWarning\u001b[39;00m,\n\u001b[1;32m    155\u001b[0m     )\n",
      "File \u001b[0;32m~/docs/research/thermo/algos/pff/pyforfluids/core.py:266\u001b[0m, in \u001b[0;36mFluid.density_iterator\u001b[0;34m(self, objective_pressure, vapor_phase, liquid_phase)\u001b[0m\n\u001b[1;32m    262\u001b[0m     \u001b[38;5;28;01mreturn\u001b[39;00m sol\n\u001b[1;32m    264\u001b[0m fluid \u001b[38;5;241m=\u001b[39m \u001b[38;5;28mself\u001b[39m\u001b[38;5;241m.\u001b[39mcopy()\n\u001b[0;32m--> 266\u001b[0m \u001b[38;5;28;43m__import__\u001b[39;49m\u001b[43m(\u001b[49m\u001b[38;5;124;43m'\u001b[39;49m\u001b[38;5;124;43mipdb\u001b[39;49m\u001b[38;5;124;43m'\u001b[39;49m\u001b[43m)\u001b[49m\u001b[38;5;241m.\u001b[39mset_trace()\n\u001b[1;32m    268\u001b[0m \u001b[38;5;66;03m# LIQUID ROOT\u001b[39;00m\n\u001b[1;32m    269\u001b[0m liquid_density \u001b[38;5;241m=\u001b[39m \u001b[38;5;28;01mNone\u001b[39;00m\n",
      "\u001b[0;31mModuleNotFoundError\u001b[0m: No module named 'ipdb'"
     ]
    }
   ],
   "source": [
    "fluid = pff.Fluid(\n",
    "    model=model,\n",
    "    composition=composition,\n",
    "    temperature=temperature,\n",
    "    pressure=pressure\n",
    ")"
   ]
  },
  {
   "cell_type": "markdown",
   "id": "0ea03183",
   "metadata": {},
   "source": [
    "### Accessing properties\n",
    "\n",
    "Properties are stored in the Fluid attribute `Fluid.properties` as a dictionary, they can either be accessed that way or by calling them directly from the fluid.\n",
    "\n",
    "All the properties are expressed in **International System** units, except for density that's expressed in **[mol/L]**"
   ]
  },
  {
   "cell_type": "code",
   "execution_count": 9,
   "id": "27505190",
   "metadata": {},
   "outputs": [
    {
     "data": {
      "text/plain": [
       "critical_density                                                          9.442773\n",
       "critical_temperature                                                    207.106811\n",
       "ideal_helmholtz                  [[-0.20039995045552758, 0.0, 0.0], [9.44277280...\n",
       "residual_helmholtz               [[-0.2400403963856658, 0.0, 0.0], [-2.33042322...\n",
       "compressibility_factor                                                    0.753206\n",
       "isochoric_heat                                                           38.012173\n",
       "isobaric_heat                                                             73.38943\n",
       "sound_speed                                                             253.317608\n",
       "isothermal_thermal_coefficent                                             -1.96621\n",
       "dp_dt                                                                    11.926753\n",
       "dp_drho                                                                 603.130856\n",
       "dp_dv                                                                  -603.130856\n",
       "pressure                                                             939376.059523\n",
       "entropy                                                                 -44.478116\n",
       "internal_energy                                                       -7221.021716\n",
       "enthalpy                                                              -6281.645656\n",
       "gibbs_free_energy                                                        390.07172\n",
       "joule_thomson_coefficent                                                  0.000027\n",
       "isentropic_exponent                                                         0.8317\n",
       "second_thermal_virial_coeff                                              -0.235382\n",
       "third_thermal_virial_coeff                                               -0.008008\n",
       "dtype: object"
      ]
     },
     "execution_count": 9,
     "metadata": {},
     "output_type": "execute_result"
    }
   ],
   "source": [
    "fluid.properties"
   ]
  },
  {
   "cell_type": "code",
   "execution_count": 11,
   "id": "639ffe2b",
   "metadata": {},
   "outputs": [
    {
     "data": {
      "text/plain": [
       "38.01217317197219"
      ]
     },
     "execution_count": 11,
     "metadata": {},
     "output_type": "execute_result"
    }
   ],
   "source": [
    "fluid['isochoric_heat']"
   ]
  },
  {
   "cell_type": "markdown",
   "id": "f6c8c5b8",
   "metadata": {},
   "source": [
    "### State changes\n",
    "\n",
    "A fluid thermodynamic variable can be changed by using the methods:\n",
    "\n",
    "- `Fluid.set_temperature`\n",
    "- `Fluid.set_composition`\n",
    "- `Fluid.set_density`\n",
    "- `Fluid.set_pressure`\n",
    "\n",
    "When a property is changed, the properties are not re-calculated, so it's a **must** to call the method `Fluid.calculate_properties`. This is intended to avoid useless calculations if two or more variables are to be changed. In the case of a pressure change `Fluid.density_iterator` will be called!"
   ]
  },
  {
   "cell_type": "code",
   "execution_count": 19,
   "id": "fa3fed16",
   "metadata": {},
   "outputs": [],
   "source": [
    "fluid.set_temperature(180)\n",
    "fluid.set_density(2)\n",
    "\n",
    "fluid.calculate_properties()"
   ]
  },
  {
   "cell_type": "code",
   "execution_count": 20,
   "id": "a8569e18",
   "metadata": {},
   "outputs": [
    {
     "data": {
      "text/plain": [
       "34.84643389107368"
      ]
     },
     "execution_count": 20,
     "metadata": {},
     "output_type": "execute_result"
    }
   ],
   "source": [
    "fluid['isochoric_heat']"
   ]
  },
  {
   "cell_type": "markdown",
   "id": "dd715279",
   "metadata": {},
   "source": [
    "## Calculating isotherms\n",
    "\n",
    "Isotherms at the fluid temperature can be calculated along a density range with the method `Fluid.isotherm`. This will return a dictionary equivalent to the `Fluid.properties` one, but each value will be a list instead of a single value."
   ]
  },
  {
   "cell_type": "code",
   "execution_count": 43,
   "id": "c56ca684",
   "metadata": {},
   "outputs": [],
   "source": [
    "density_range = np.linspace(0.00001, 50, 1000)\n",
    "isotherm = fluid.isotherm(density_range)"
   ]
  },
  {
   "cell_type": "code",
   "execution_count": 44,
   "id": "700c9378",
   "metadata": {},
   "outputs": [
    {
     "data": {
      "text/plain": [
       "0    26.419333\n",
       "1    26.522821\n",
       "2    26.630149\n",
       "3    26.741359\n",
       "4    26.856500\n",
       "Name: isochoric_heat, dtype: float64"
      ]
     },
     "execution_count": 44,
     "metadata": {},
     "output_type": "execute_result"
    }
   ],
   "source": [
    "isotherm['isochoric_heat'][:5]"
   ]
  },
  {
   "cell_type": "code",
   "execution_count": 45,
   "id": "8a08f267",
   "metadata": {},
   "outputs": [
    {
     "data": {
      "image/png": "[encoded data removed]",
      "text/plain": [
       "<Figure size 640x480 with 1 Axes>"
      ]
     },
     "metadata": {},
     "output_type": "display_data"
    }
   ],
   "source": [
    "plt.plot(1/density_range, isotherm['pressure'])\n",
    "plt.xlim(0,1)\n",
    "plt.ylim(-1.7e6, 2e7)\n",
    "plt.show()"
   ]
  },
  {
   "cell_type": "code",
   "execution_count": 46,
   "id": "8d57ef5c",
   "metadata": {},
   "outputs": [
    {
     "data": {
      "image/png": "[encoded data removed]",
      "text/plain": [
       "<Figure size 640x480 with 1 Axes>"
      ]
     },
     "metadata": {},
     "output_type": "display_data"
    }
   ],
   "source": [
    "plt.plot(1/density_range, isotherm['isobaric_heat'])\n",
    "plt.xlim(0,1)\n",
    "plt.ylim(-1000, 20000)\n",
    "plt.show()"
   ]
  },
  {
   "cell_type": "code",
   "execution_count": null,
   "id": "aaeddb1a",
   "metadata": {},
   "outputs": [],
   "source": []
  }
 ],
 "metadata": {
  "kernelspec": {
   "display_name": "Python 3 (ipykernel)",
   "language": "python",
   "name": "python3"
  },
  "language_info": {
   "codemirror_mode": {
    "name": "ipython",
    "version": 3
   },
   "file_extension": ".py",
   "mimetype": "text/x-python",
   "name": "python",
   "nbconvert_exporter": "python",
   "pygments_lexer": "ipython3",
   "version": "3.10.5"
  }
 },
 "nbformat": 4,
 "nbformat_minor": 5
}
