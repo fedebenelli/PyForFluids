{
 "cells": [
  {
   "cell_type": "markdown",
   "id": "ac0ecbee",
   "metadata": {},
   "source": [
    "# Tutorial"
   ]
  },
  {
   "cell_type": "markdown",
   "id": "72e7501a",
   "metadata": {},
   "source": [
    "## Relevant imports"
   ]
  },
  {
   "cell_type": "code",
   "execution_count": 1,
   "id": "fddc4e9a",
   "metadata": {},
   "outputs": [],
   "source": [
    "import matplotlib.pyplot as plt\n",
    "import numpy as np\n",
    "import pyforfluids as pff"
   ]
  },
  {
   "cell_type": "markdown",
   "id": "46eb1678",
   "metadata": {},
   "source": [
    "## Definition of the model to be used"
   ]
  },
  {
   "cell_type": "code",
   "execution_count": 2,
   "id": "b524a444",
   "metadata": {},
   "outputs": [],
   "source": [
    "model = pff.models.GERG2008()"
   ]
  },
  {
   "cell_type": "markdown",
   "id": "c7ef886c",
   "metadata": {},
   "source": [
    "## Fluid's initial state"
   ]
  },
  {
   "cell_type": "code",
   "execution_count": 29,
   "id": "f2b65b20",
   "metadata": {},
   "outputs": [],
   "source": [
    "temperature = 150  # Degrees Kelvin\n",
    "density = 1  # mol/L\n",
    "pressure = 101325  # Pa\n",
    "composition = {'methane': 0.9, 'ethane': 0.05, 'propane': 0.05}  # Molar fractions"
   ]
  },
  {
   "cell_type": "markdown",
   "id": "f7a1489b",
   "metadata": {},
   "source": [
    "### Definition of the fluid\n",
    "The properties will be calculated at the moment of the object definition."
   ]
  },
  {
   "cell_type": "code",
   "execution_count": 30,
   "id": "73c99281",
   "metadata": {
    "code_folding": []
   },
   "outputs": [],
   "source": [
    "fluid = pff.Fluid(\n",
    "    model=model,\n",
    "    composition=composition,\n",
    "    temperature=temperature,\n",
    "    density=density\n",
    ")"
   ]
  },
  {
   "cell_type": "markdown",
   "id": "232c3f94",
   "metadata": {},
   "source": [
    "#### Pressure as an init variable\n",
    "Pressure can be used as an initial variable, in this case the method `fluid.density_iterator` will be called internally to find the root of density at the given pressure, since all models use density as an independent variable instead of temperature. \n",
    "\n",
    "This can lead to trouble since multiple roots can be obtained in the equilibrium region!"
   ]
  },
  {
   "cell_type": "code",
   "execution_count": 32,
   "id": "dcb28943",
   "metadata": {
    "code_folding": []
   },
   "outputs": [
    {
     "name": "stderr",
     "output_type": "stream",
     "text": [
      "/home/ruther/docs/programming/python/virtualenvs/pff/lib/python3.10/site-packages/pyforfluids/core.py:150: UserWarning: Two roots were found! Vapor-phase value will be used\n",
      "  warnings.warn(\n"
     ]
    }
   ],
   "source": [
    "fluid = pff.Fluid(\n",
    "    model=model,\n",
    "    composition=composition,\n",
    "    temperature=temperature,\n",
    "    pressure=pressure\n",
    ")"
   ]
  },
  {
   "cell_type": "markdown",
   "id": "0ea03183",
   "metadata": {},
   "source": [
    "### Accessing properties\n",
    "\n",
    "Properties are stored in the Fluid attribute `Fluid.properties` as a dictionary, they can either be accessed that way or by calling them directly from the fluid.\n",
    "\n",
    "All the properties are expressed in **International System** units, except for density that's expressed in **[mol/L]**"
   ]
  },
  {
   "cell_type": "code",
   "execution_count": 33,
   "id": "27505190",
   "metadata": {},
   "outputs": [
    {
     "data": {
      "text/plain": [
       "critical_density                                                          9.442773\n",
       "critical_temperature                                                    207.106811\n",
       "ideal_helmholtz                  [[-2.6909451721172486, 0.0, 0.0], [113.9540033...\n",
       "residual_helmholtz               [[-0.01953281291620949, 0.0, 0.0], [-2.2290165...\n",
       "compressibility_factor                                                    0.980439\n",
       "isochoric_heat                                                           26.306793\n",
       "isobaric_heat                                                            35.275533\n",
       "sound_speed                                                             297.571758\n",
       "isothermal_thermal_coefficent                                            -0.718794\n",
       "dp_dt                                                                     0.701414\n",
       "dp_drho                                                                1198.310467\n",
       "dp_dv                                                                    -8.228284\n",
       "pressure                                                                  101325.0\n",
       "entropy                                                                 -21.537762\n",
       "internal_energy                                                       -6611.093364\n",
       "enthalpy                                                              -5388.318059\n",
       "gibbs_free_energy                                                     -2157.653692\n",
       "joule_thomson_coefficent                                                   0.00002\n",
       "isentropic_exponent                                                       1.288087\n",
       "second_thermal_virial_coeff                                              -0.235382\n",
       "third_thermal_virial_coeff                                               -0.008008\n",
       "dtype: object"
      ]
     },
     "execution_count": 33,
     "metadata": {},
     "output_type": "execute_result"
    }
   ],
   "source": [
    "fluid.properties"
   ]
  },
  {
   "cell_type": "code",
   "execution_count": 34,
   "id": "639ffe2b",
   "metadata": {},
   "outputs": [
    {
     "data": {
      "text/plain": [
       "26.306793214778345"
      ]
     },
     "execution_count": 34,
     "metadata": {},
     "output_type": "execute_result"
    }
   ],
   "source": [
    "fluid['isochoric_heat']"
   ]
  },
  {
   "cell_type": "markdown",
   "id": "f6c8c5b8",
   "metadata": {},
   "source": [
    "### State changes\n",
    "\n",
    "A fluid thermodynamic variable can be changed by using the methods:\n",
    "\n",
    "- `Fluid.set_temperature`\n",
    "- `Fluid.set_composition`\n",
    "- `Fluid.set_density`\n",
    "- `Fluid.set_pressure`\n",
    "\n",
    "When a property is changed, the properties are not re-calculated, so it's a **must** to call the method `Fluid.calculate_properties`. This is intended to avoid useless calculations if two or more variables are to be changed. In the case of a pressure change `Fluid.density_iterator` will be called!"
   ]
  },
  {
   "cell_type": "code",
   "execution_count": 40,
   "id": "fa3fed16",
   "metadata": {},
   "outputs": [],
   "source": [
    "fluid.set_temperature(150)\n",
    "fluid.set_density(2)\n",
    "\n",
    "fluid.calculate_properties()"
   ]
  },
  {
   "cell_type": "code",
   "execution_count": 41,
   "id": "a8569e18",
   "metadata": {},
   "outputs": [
    {
     "data": {
      "text/plain": [
       "261.17548580069865"
      ]
     },
     "execution_count": 41,
     "metadata": {},
     "output_type": "execute_result"
    }
   ],
   "source": [
    "fluid['isochoric_heat']"
   ]
  },
  {
   "cell_type": "markdown",
   "id": "dd715279",
   "metadata": {},
   "source": [
    "## Calculating isotherms\n",
    "\n",
    "Isotherms at the fluid temperature can be calculated along a density range with the method `Fluid.isotherm`. This will return a `pandas.DataFrame` that will account as all the `Fluid.properties` series calculated in it's range."
   ]
  },
  {
   "cell_type": "code",
   "execution_count": 42,
   "id": "c56ca684",
   "metadata": {},
   "outputs": [],
   "source": [
    "density_range = np.linspace(0.001, 20, 100)\n",
    "isotherm = fluid.isotherm(density_range)"
   ]
  },
  {
   "cell_type": "code",
   "execution_count": 43,
   "id": "700c9378",
   "metadata": {},
   "outputs": [
    {
     "data": {
      "text/plain": [
       "0    26.032715\n",
       "1    26.785114\n",
       "2    27.888103\n",
       "3    29.636736\n",
       "4    32.692315\n",
       "Name: isochoric_heat, dtype: float64"
      ]
     },
     "execution_count": 43,
     "metadata": {},
     "output_type": "execute_result"
    }
   ],
   "source": [
    "isotherm['isochoric_heat'][:5]"
   ]
  },
  {
   "cell_type": "code",
   "execution_count": 44,
   "id": "8a08f267",
   "metadata": {},
   "outputs": [
    {
     "data": {
      "text/plain": [
       "<AxesSubplot:>"
      ]
     },
     "execution_count": 44,
     "metadata": {},
     "output_type": "execute_result"
    },
    {
     "data": {
      "image/png": "[encoded data removed]",
      "text/plain": [
       "<Figure size 432x288 with 2 Axes>"
      ]
     },
     "metadata": {
      "needs_background": "light"
     },
     "output_type": "display_data"
    }
   ],
   "source": [
    "fig, ax = plt.subplots()\n",
    "\n",
    "isotherm.set_index(\"density\")[[\"pressure\"]].plot(ax=ax)\n",
    "isotherm.set_index(\"density\")[[\"dp_drho\"]].plot(ax=ax, secondary_y = True)"
   ]
  },
  {
   "cell_type": "code",
   "execution_count": null,
   "id": "8d57ef5c",
   "metadata": {},
   "outputs": [],
   "source": []
  }
 ],
 "metadata": {
  "kernelspec": {
   "display_name": "Python 3",
   "language": "python",
   "name": "python3"
  },
  "language_info": {
   "codemirror_mode": {
    "name": "ipython",
    "version": 3
   },
   "file_extension": ".py",
   "mimetype": "text/x-python",
   "name": "python",
   "nbconvert_exporter": "python",
   "pygments_lexer": "ipython3",
   "version": "3.10.2"
  }
 },
 "nbformat": 4,
 "nbformat_minor": 5
}
