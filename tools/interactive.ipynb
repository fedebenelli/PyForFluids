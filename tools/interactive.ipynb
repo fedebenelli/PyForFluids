{
 "cells": [
  {
   "cell_type": "code",
   "execution_count": 1,
   "metadata": {},
   "outputs": [],
   "source": [
    "import jax\n",
    "jax.config.update(\"jax_enable_x64\", True)\n",
    "import jax.numpy as np\n",
    "import pyforfluids as pff\n",
    "import matplotlib.pyplot as plt\n",
    "float64 = \"float64\""
   ]
  },
  {
   "cell_type": "code",
   "execution_count": 2,
   "metadata": {},
   "outputs": [
    {
     "name": "stderr",
     "output_type": "stream",
     "text": [
      "No GPU/TPU found, falling back to CPU. (Set TF_CPP_MIN_LOG_LEVEL=0 and rerun for more info.)\n"
     ]
    }
   ],
   "source": [
    "\n",
    "kij = np.array([\n",
    "    [0, 0],\n",
    "    [0, 0],\n",
    "], dtype=float64)\n",
    "\n",
    "lij = 0 * 1.5*kij\n",
    "\n",
    "z = np.array([0.3, 0.7], dtype=float64)\n",
    "p = 2.0\n",
    "v = 100.0\n",
    "t = 150.0\n",
    "\n",
    "tc = np.array([190, 304], dtype=float64)\n",
    "pc = np.array([45, 74], dtype=float64)\n",
    "w = np.array([0.19, 0.1], dtype=float64)\n",
    "\n",
    "penerob = pff.models.cubic.PR76(tc, pc, w)\n",
    "mixrule = pff.models.mixingrules.ClassicVdW(kij, lij)\n",
    "armodel = pff.models.cubic.CubicEoS(penerob, mixrule)\n",
    "\n",
    "system = pff.models.system.System(armodel, None, None)\n"
   ]
  },
  {
   "cell_type": "code",
   "execution_count": 3,
   "metadata": {},
   "outputs": [
    {
     "data": {
      "image/png": "[encoded data removed]",
      "text/plain": [
       "<Figure size 640x480 with 1 Axes>"
      ]
     },
     "metadata": {},
     "output_type": "display_data"
    }
   ],
   "source": [
    "\n",
    "vs = np.linspace(0, 5, 1000)\n",
    "\n",
    "ps = [system.pressure(z, v, t) for v in vs]\n",
    "\n",
    "plt.plot(vs, ps)\n",
    "plt.show()"
   ]
  },
  {
   "cell_type": "code",
   "execution_count": 4,
   "metadata": {},
   "outputs": [],
   "source": [
    "a = penerob.attractive_parameter(z, v, t)\n",
    "b = penerob.repulsive_parameter(z, v, t)\n",
    "c = penerob.volume_shift(z, v, t)"
   ]
  },
  {
   "cell_type": "code",
   "execution_count": 14,
   "metadata": {},
   "outputs": [
    {
     "name": "stdout",
     "output_type": "stream",
     "text": [
      "23.3 µs ± 2.01 µs per loop (mean ± std. dev. of 7 runs, 10,000 loops each)\n",
      "21.1 µs ± 928 ns per loop (mean ± std. dev. of 7 runs, 10,000 loops each)\n",
      "20.7 µs ± 455 ns per loop (mean ± std. dev. of 7 runs, 10,000 loops each)\n",
      "20.7 µs ± 813 ns per loop (mean ± std. dev. of 7 runs, 10,000 loops each)\n",
      "21.6 µs ± 1.79 µs per loop (mean ± std. dev. of 7 runs, 10,000 loops each)\n",
      "20.2 µs ± 1.04 µs per loop (mean ± std. dev. of 7 runs, 10,000 loops each)\n",
      "21.8 µs ± 2.81 µs per loop (mean ± std. dev. of 7 runs, 100,000 loops each)\n",
      "21.3 µs ± 2.4 µs per loop (mean ± std. dev. of 7 runs, 10,000 loops each)\n",
      "20.8 µs ± 1.31 µs per loop (mean ± std. dev. of 7 runs, 10,000 loops each)\n",
      "20.6 µs ± 719 ns per loop (mean ± std. dev. of 7 runs, 10,000 loops each)\n",
      "17.5 µs ± 3.2 µs per loop (mean ± std. dev. of 7 runs, 10,000 loops each)\n",
      "16.8 µs ± 1.12 µs per loop (mean ± std. dev. of 7 runs, 100,000 loops each)\n",
      "25.5 µs ± 3.57 µs per loop (mean ± std. dev. of 7 runs, 100,000 loops each)\n",
      "26.4 µs ± 1.46 µs per loop (mean ± std. dev. of 7 runs, 10,000 loops each)\n",
      "24.6 µs ± 2.22 µs per loop (mean ± std. dev. of 7 runs, 10,000 loops each)\n",
      "25.2 µs ± 1.61 µs per loop (mean ± std. dev. of 7 runs, 10,000 loops each)\n",
      "25.7 µs ± 1.35 µs per loop (mean ± std. dev. of 7 runs, 10,000 loops each)\n"
     ]
    },
    {
     "ename": "KeyboardInterrupt",
     "evalue": "",
     "output_type": "error",
     "traceback": [
      "\u001b[0;31m---------------------------------------------------------------------------\u001b[0m",
      "\u001b[0;31mKeyboardInterrupt\u001b[0m                         Traceback (most recent call last)",
      "Cell \u001b[0;32mIn [14], line 6\u001b[0m\n\u001b[1;32m      4\u001b[0m \u001b[39mfor\u001b[39;00m n \u001b[39min\u001b[39;00m \u001b[39mrange\u001b[39m(\u001b[39m0\u001b[39m, \u001b[39m100000\u001b[39m, \u001b[39m1000\u001b[39m):\n\u001b[1;32m      5\u001b[0m     \u001b[39mfor\u001b[39;00m i \u001b[39min\u001b[39;00m \u001b[39mrange\u001b[39m(n):\n\u001b[0;32m----> 6\u001b[0m         time \u001b[39m=\u001b[39m get_ipython()\u001b[39m.\u001b[39;49mrun_line_magic(\u001b[39m'\u001b[39;49m\u001b[39mtimeit\u001b[39;49m\u001b[39m'\u001b[39;49m, \u001b[39m'\u001b[39;49m\u001b[39m-o f(0)\u001b[39;49m\u001b[39m'\u001b[39;49m)\n",
      "File \u001b[0;32m~/docs/programming/python/virtualenvs/gtf/pff/lib/python3.10/site-packages/IPython/core/interactiveshell.py:2309\u001b[0m, in \u001b[0;36mInteractiveShell.run_line_magic\u001b[0;34m(self, magic_name, line, _stack_depth)\u001b[0m\n\u001b[1;32m   2307\u001b[0m     kwargs[\u001b[39m'\u001b[39m\u001b[39mlocal_ns\u001b[39m\u001b[39m'\u001b[39m] \u001b[39m=\u001b[39m \u001b[39mself\u001b[39m\u001b[39m.\u001b[39mget_local_scope(stack_depth)\n\u001b[1;32m   2308\u001b[0m \u001b[39mwith\u001b[39;00m \u001b[39mself\u001b[39m\u001b[39m.\u001b[39mbuiltin_trap:\n\u001b[0;32m-> 2309\u001b[0m     result \u001b[39m=\u001b[39m fn(\u001b[39m*\u001b[39;49margs, \u001b[39m*\u001b[39;49m\u001b[39m*\u001b[39;49mkwargs)\n\u001b[1;32m   2310\u001b[0m \u001b[39mreturn\u001b[39;00m result\n",
      "File \u001b[0;32m~/docs/programming/python/virtualenvs/gtf/pff/lib/python3.10/site-packages/IPython/core/magics/execution.py:1166\u001b[0m, in \u001b[0;36mExecutionMagics.timeit\u001b[0;34m(self, line, cell, local_ns)\u001b[0m\n\u001b[1;32m   1163\u001b[0m         \u001b[39mif\u001b[39;00m time_number \u001b[39m>\u001b[39m\u001b[39m=\u001b[39m \u001b[39m0.2\u001b[39m:\n\u001b[1;32m   1164\u001b[0m             \u001b[39mbreak\u001b[39;00m\n\u001b[0;32m-> 1166\u001b[0m all_runs \u001b[39m=\u001b[39m timer\u001b[39m.\u001b[39;49mrepeat(repeat, number)\n\u001b[1;32m   1167\u001b[0m best \u001b[39m=\u001b[39m \u001b[39mmin\u001b[39m(all_runs) \u001b[39m/\u001b[39m number\n\u001b[1;32m   1168\u001b[0m worst \u001b[39m=\u001b[39m \u001b[39mmax\u001b[39m(all_runs) \u001b[39m/\u001b[39m number\n",
      "File \u001b[0;32m/usr/lib/python3.10/timeit.py:206\u001b[0m, in \u001b[0;36mTimer.repeat\u001b[0;34m(self, repeat, number)\u001b[0m\n\u001b[1;32m    204\u001b[0m r \u001b[39m=\u001b[39m []\n\u001b[1;32m    205\u001b[0m \u001b[39mfor\u001b[39;00m i \u001b[39min\u001b[39;00m \u001b[39mrange\u001b[39m(repeat):\n\u001b[0;32m--> 206\u001b[0m     t \u001b[39m=\u001b[39m \u001b[39mself\u001b[39;49m\u001b[39m.\u001b[39;49mtimeit(number)\n\u001b[1;32m    207\u001b[0m     r\u001b[39m.\u001b[39mappend(t)\n\u001b[1;32m    208\u001b[0m \u001b[39mreturn\u001b[39;00m r\n",
      "File \u001b[0;32m~/docs/programming/python/virtualenvs/gtf/pff/lib/python3.10/site-packages/IPython/core/magics/execution.py:156\u001b[0m, in \u001b[0;36mTimer.timeit\u001b[0;34m(self, number)\u001b[0m\n\u001b[1;32m    154\u001b[0m gc\u001b[39m.\u001b[39mdisable()\n\u001b[1;32m    155\u001b[0m \u001b[39mtry\u001b[39;00m:\n\u001b[0;32m--> 156\u001b[0m     timing \u001b[39m=\u001b[39m \u001b[39mself\u001b[39;49m\u001b[39m.\u001b[39;49minner(it, \u001b[39mself\u001b[39;49m\u001b[39m.\u001b[39;49mtimer)\n\u001b[1;32m    157\u001b[0m \u001b[39mfinally\u001b[39;00m:\n\u001b[1;32m    158\u001b[0m     \u001b[39mif\u001b[39;00m gcold:\n",
      "File \u001b[0;32m<magic-timeit>:1\u001b[0m, in \u001b[0;36minner\u001b[0;34m(_it, _timer)\u001b[0m\n",
      "Cell \u001b[0;32mIn [14], line 3\u001b[0m, in \u001b[0;36m<lambda>\u001b[0;34m(x)\u001b[0m\n\u001b[1;32m      1\u001b[0m times \u001b[39m=\u001b[39m []\n\u001b[0;32m----> 3\u001b[0m f \u001b[39m=\u001b[39m \u001b[39mlambda\u001b[39;00m x: (mixrule\u001b[39m.\u001b[39;49mmix_a(z, v, t, a), mixrule\u001b[39m.\u001b[39mmix_a(z, v, t, b), mixrule\u001b[39m.\u001b[39mmix_c(z, v, t, c))\n\u001b[1;32m      4\u001b[0m \u001b[39mfor\u001b[39;00m n \u001b[39min\u001b[39;00m \u001b[39mrange\u001b[39m(\u001b[39m0\u001b[39m, \u001b[39m100000\u001b[39m, \u001b[39m1000\u001b[39m):\n\u001b[1;32m      5\u001b[0m     \u001b[39mfor\u001b[39;00m i \u001b[39min\u001b[39;00m \u001b[39mrange\u001b[39m(n):\n",
      "\u001b[0;31mKeyboardInterrupt\u001b[0m: "
     ]
    }
   ],
   "source": [
    "times = []\n",
    "\n",
    "f = lambda x: (mixrule.mix_a(z, v, t, a), mixrule.mix_a(z, v, t, b), mixrule.mix_c(z, v, t, c))\n",
    "for n in range(0, 100000, 1000):\n",
    "    for i in range(n):\n",
    "        time = %timeit -o f(0)"
   ]
  },
  {
   "cell_type": "code",
   "execution_count": 15,
   "metadata": {},
   "outputs": [],
   "source": [
    "amix, bmix, cmix = f(0)"
   ]
  },
  {
   "cell_type": "code",
   "execution_count": 17,
   "metadata": {},
   "outputs": [
    {
     "data": {
      "text/plain": [
       "(Array(4.49988942, dtype=float64),\n",
       " Array(0.02679299, dtype=float64),\n",
       " Array(0., dtype=float64))"
      ]
     },
     "execution_count": 17,
     "metadata": {},
     "output_type": "execute_result"
    }
   ],
   "source": [
    "amix, bmix, cmix"
   ]
  },
  {
   "cell_type": "code",
   "execution_count": 20,
   "metadata": {},
   "outputs": [
    {
     "data": {
      "text/plain": [
       "(Array(7.35020055, dtype=float64),\n",
       " Array(0.04227259, dtype=float64),\n",
       " Array(0., dtype=float64))"
      ]
     },
     "execution_count": 20,
     "metadata": {},
     "output_type": "execute_result"
    }
   ],
   "source": [
    "amix, bmix, cmix, _, _ = mixrule.mix(z, v, t, a, b, c, [0], [0])\n",
    "amix, bmix, cmix"
   ]
  },
  {
   "cell_type": "code",
   "execution_count": 9,
   "metadata": {},
   "outputs": [
    {
     "name": "stdout",
     "output_type": "stream",
     "text": [
      "16.1 ms ± 1.31 ms per loop (mean ± std. dev. of 7 runs, 10 loops each)\n"
     ]
    }
   ],
   "source": [
    "%%timeit\n",
    "for i in range(1000):\n",
    "    amix, bmix, cmix, _, _ = mixrule.mix(z, v, t, a, b, c, [0], [0])"
   ]
  },
  {
   "cell_type": "code",
   "execution_count": 10,
   "metadata": {},
   "outputs": [
    {
     "data": {
      "text/plain": [
       "Array(0, dtype=int64, weak_type=True)"
      ]
     },
     "execution_count": 10,
     "metadata": {},
     "output_type": "execute_result"
    }
   ],
   "source": [
    "mixrule.mix_a"
   ]
  },
  {
   "cell_type": "code",
   "execution_count": null,
   "metadata": {},
   "outputs": [],
   "source": []
  },
  {
   "cell_type": "code",
   "execution_count": null,
   "metadata": {},
   "outputs": [],
   "source": []
  }
 ],
 "metadata": {
  "kernelspec": {
   "display_name": "pff",
   "language": "python",
   "name": "python3"
  },
  "language_info": {
   "codemirror_mode": {
    "name": "ipython",
    "version": 3
   },
   "file_extension": ".py",
   "mimetype": "text/x-python",
   "name": "python",
   "nbconvert_exporter": "python",
   "pygments_lexer": "ipython3",
   "version": "3.10.9"
  },
  "orig_nbformat": 4,
  "vscode": {
   "interpreter": {
    "hash": "31209c446bef26d7c27cd0b3e3057501e6a9d1024d7b500e7c990dcf939e3ca2"
   }
  }
 },
 "nbformat": 4,
 "nbformat_minor": 2
}
