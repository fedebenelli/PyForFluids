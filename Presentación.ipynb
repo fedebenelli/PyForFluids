{
 "cells": [
  {
   "cell_type": "markdown",
   "metadata": {
    "slideshow": {
     "slide_type": "slide"
    }
   },
   "source": [
    "##### Facultad de Matemática, Física, Astronomía y Computación - Universidad Nacional de Córdoba\n",
    "##### Curso de Posgrado\n",
    "# Diseño de Software para Cómputo Científico\n",
    "----\n",
    "\n",
    "#### Presentación Trabajo Final"
   ]
  },
  {
   "cell_type": "markdown",
   "metadata": {
    "slideshow": {
     "slide_type": "slide"
    }
   },
   "source": [
    "### PyForFluids: Cálculo de propiedades termodinámicas de Fluidos en base a ecuaciones de estado\n",
    "---\n",
    "**Alumnos:** \n",
    " - Candelaria Arpajou\n",
    " - Federico Benelli\n",
    "\n",
    "**Profesores:**\n",
    " - Juan Bautista Cabral\n",
    " - Martín Chalela"
   ]
  },
  {
   "cell_type": "markdown",
   "metadata": {
    "slideshow": {
     "slide_type": "subslide"
    }
   },
   "source": [
    "### Estructura de la presentación\n",
    "---\n",
    "- **Introducción**\n",
    "- Modelos Termodinámicos\n",
    "    - GERG-2008\n",
    "- Arquitectura e implementación del paquete\n",
    "    - Desarrollo en Fortran\n",
    "    - Desarrollo en Python\n",
    "    - Testing\n",
    "    - Integración Continua\n",
    "- Ejemplo de uso\n",
    "- Conclusiones y perpectivas a futuro\n"
   ]
  },
  {
   "cell_type": "markdown",
   "metadata": {
    "slideshow": {
     "slide_type": "slide"
    }
   },
   "source": [
    "### Introducción\n",
    "----\n",
    "- **propiedades termodinámicas** de fluidos de reservorio son fundamentales en procesos industriales.\n",
    "- Sectores vinculados a la producción **impulsan** modelos capaces de predecir con exactitud las propiedades muchos compuestos.\n",
    "- Existen numerosos simuladores comerciales capaces de predecir las propiedades termodinámicas de mezclas fluidas: gPROMS, ASPEN PLUS, entre otros.\n"
   ]
  },
  {
   "cell_type": "markdown",
   "metadata": {
    "slideshow": {
     "slide_type": "subslide"
    }
   },
   "source": [
    "**Principales desventajas de estos simuladores**.\n",
    " - Su licencia es muy costosa.\n",
    " - Son complejos de usar. Su completo entendimiento y manejo lleva tiempo.\n",
    " - Por lo general, no es posible acceder a las ecuaciones de los modelos que soportan.\n",
    " \n",
    "\n",
    "![LogoAT](LogoAT.png) \n",
    "\n",
    "![LogoGP](LogoGP.png)\n",
    " \n",
    "##### Alternativa: Desarrollo de programas open-source capaces de estimar propiedades termodinámicas de compuesto puros y mezclas"
   ]
  },
  {
   "cell_type": "markdown",
   "metadata": {
    "slideshow": {
     "slide_type": "subslide"
    }
   },
   "source": [
    "## PyForFluids\n",
    "----\n",
    " - PyForFluids, abreviación de Python-Fortran-Fluids, es un paquete de Python destinado al cálculo de propiedades termodinámicas de fluidos.\n",
    " - Implementa la ecuación de estado GERG2008, escrita en código Fortran 95.\n",
    " - El programa en Fortran se integra al paquete de Python por medio de la herramienta F2Py. "
   ]
  },
  {
   "cell_type": "markdown",
   "metadata": {
    "slideshow": {
     "slide_type": "slide"
    }
   },
   "source": [
    "### Estructura de la presentación\n",
    "---\n",
    "- Introducción\n",
    "- **Modelos Termodinámicos**\n",
    "    - GERG-2008\n",
    "- Arquitectura e implementación del paquete\n",
    "    - Desarrollo en Fortran\n",
    "    - Desarrollo en Python\n",
    "    - Testing\n",
    "    - Integración Continua\n",
    "- Ejemplo de uso\n",
    "- Conclusiones y perpectivas a futuro"
   ]
  },
  {
   "cell_type": "markdown",
   "metadata": {
    "slideshow": {
     "slide_type": "slide"
    }
   },
   "source": [
    "### Modelos Termodinámicos\n",
    "---\n",
    "- Los modelos termodinámicos son desarrollos matemáticos que permiten conocer y evaluar el comportamiento termodinámico de un sistema bajo determinadas condiciones.\n",
    "- Este sistema puede ser una sustancia pura o una mezcla.\n",
    "- La ecuación de estado más simple es la llamada Ley de Gases Ideales:\n",
    "\n",
    "$$ PV = RT $$"
   ]
  },
  {
   "cell_type": "markdown",
   "metadata": {
    "slideshow": {
     "slide_type": "subslide"
    }
   },
   "source": [
    "Existen numerosas ecuaciones de estado desarrolladas hasta el momento. Se las puede clasificar principalmente en 4 grupos:\n",
    "\n",
    "  - **Cúbicas.** \n",
    "  - **SAFT.** \n",
    "  - **Multiparamétricas**. -> GERG2008\n",
    "  - **Virial**.\n",
    "  \n"
   ]
  },
  {
   "cell_type": "markdown",
   "metadata": {
    "slideshow": {
     "slide_type": "subslide"
    }
   },
   "source": [
    "### Modelos Termodinámicos\n",
    "##### GERG2008\n",
    "---\n",
    "- Pensada para su aplicación en la industria del gas y petróleo.\n",
    "- Función de la composición, densidad y temperatura.\n",
    "\n",
    "$$ \\alpha(\\bar{x}, \\rho, T) = \\alpha^o(\\bar{x}, \\rho, T) + \\alpha^r(\\bar{x}, \\rho, T)$$\n",
    "\n",
    "- Hace uso de las derivadas de la energía de Helmoltz para calcular gran número de propiedades como la presión, calores específicos, coeficientes de fugacidad de la mezcla fluida."
   ]
  },
  {
   "cell_type": "markdown",
   "metadata": {
    "slideshow": {
     "slide_type": "subslide"
    }
   },
   "source": [
    "La expresión matemática de la energía libre de Helmoltz posee dos términos:\n",
    "- Primer término. **Energía de Helmholtz de gas ideal:**\n",
    "\n",
    "$$ \\alpha^o (\\bar{x}, \\rho, T) = \\sum_{i=1}^{N} x_i\\left[\n",
    "    \\alpha_i^o(\\rho, T) + \\ln x_i\n",
    "    \\right]$$\n",
    "\n",
    "- Segundo término. **Energía de Helmholtz residual:**\n",
    "\n",
    "$$ \\label{eq:residual_term}\n",
    "    \\alpha^r(\\bar{x}, \\delta, \\tau) = \n",
    "    \\sum_{i=1}^N x_i \\alpha_i^r(\\delta, \\tau) +\n",
    "    \\sum_{i=1}^{N-1}\\sum_{j=i+1}^N x_i x_j F_{ij}\\alpha_{ij}^r(\\delta, \\tau) $$\n"
   ]
  },
  {
   "cell_type": "markdown",
   "metadata": {
    "slideshow": {
     "slide_type": "subslide"
    }
   },
   "source": [
    "A su vez, el *término ideal* consiste en la combinación lineal de las energías de Helmholtz de gas ideal de los compuestos puros\n",
    "sumado a la entropía de mezclado\n",
    "\n",
    "$$ \\alpha_i^o(\\rho, T) = \\ln \\left(\\frac{\\rho}{\\rho_{c,i}}\\right) +\n",
    "\\frac{R^{*}}{R} \\left[ n_{i,1} + n_{i,2} \\frac{T_{c,i}}{T} + n_{i,3}\\ln \\left(\\frac{T_{c,i}}{T}\\right) \\\\ \n",
    "+ \\sum_{k=4,6} n_{i,k}\\ln\\left(\\left|\\sinh\\left(\\vartheta_{i,k}\\frac{T_c}{T}\\right)\\right|\\right)\\\\\n",
    "- \\sum_{k=5,7} n_{i,k}\\ln\\left(\n",
    "                  \\cosh\\left(\\vartheta_{i,k}\\frac{T_c}{T}\\right)\\right)\\right] $$"
   ]
  },
  {
   "cell_type": "markdown",
   "metadata": {
    "slideshow": {
     "slide_type": "subslide"
    }
   },
   "source": [
    "El *término residual* consiste en la combinación lineal de la energía residual de compuestos puros ( $\\alpha_i^r(\\delta,\\tau)$ ) y la combinación de interacciones binarias ( $\\alpha_{ij}^r(\\delta, \\tau)$ ).\n",
    "\n",
    "- $$ \\alpha^r_i(\\delta, \\tau) = \\sum_{k=1}^{K_{Pol,i}} n_{i,k}\\delta^d_{i,k} \\tau^{t_{i,k}} +\n",
    "    \\sum_{k=K_{Pol,i}+1}^{K_{Pol,i}+K_{Exp,i}} n_{i,k} \\delta^d_{i,k}\\tau^{t_{i,k}}e^{-\\delta^{c_{i,k}}}$$\n",
    "\n",
    "- $$ \\alpha^r_{ij}(\\delta, \\tau) = \n",
    "\\sum_{k=1}^{K_{Pol,ij} n_{ij,k}}\\delta^{d_{ij,k}}\\tau^{t_{ij,k}} \n",
    "+\\sum_{k=K_{Pol,ij}+1}^{K_{Pol,ij}+K_{Exp,ij}}n_{ij,k}\\delta^{d_{ij,k}}\\tau^{t_{ij,k}} \\\\\n",
    "\\cdot\\exp\\left[-\\eta_{ij, k}(\\delta-\\varepsilon_{ij,k})^2-\\beta_{ij, k}(\\delta-\\gamma_{ij,k})\\right]$$"
   ]
  },
  {
   "cell_type": "markdown",
   "metadata": {
    "slideshow": {
     "slide_type": "subslide"
    }
   },
   "source": [
    "El **término residual** es función de la densidad y temperatura reducidas ($\\delta, \\tau$). Estas últimas se calculan por medio de la densidad y temperatura reductoras, variables dependientes de la composición del sistema.\n",
    "\n",
    "$$\\delta = \\frac{\\rho}{\\rho_r(\\bar{x})}$$\n",
    "$ $\n",
    "$$ \\frac{1}{\\rho_r(\\bar{x})} = \\sum_{i=1}^N\\sum_{j=1}^N \n",
    "    x_i x_j\\beta_{\\nu,ij}\\gamma_{\\nu,ij} \\cdot\n",
    "    \\frac{x_i + x_j}{\\beta_{\\nu,ij}^2 x_i + x_j} \\cdot\n",
    "    \\frac{1}{8} \\left( \\frac{1}{\\rho_{c,i}^{1/3}} + \\frac{1}{\\rho_{c,j}^{1/3}}\\right)^3 $$\n",
    "$ $ \n",
    "$$\\tau = \\frac{T_r(\\bar{x})}{T}$$\n",
    "$ $\n",
    "$$ T_r(\\bar{x}) = \\sum_{i=1}^N\\sum_{j=1}^N \n",
    "    x_i x_j\\beta_{T,ij}\\gamma_{T,ij} \\cdot\n",
    "    \\frac{x_i + x_j}{\\beta_{T,ij}^2 x_i + x_j} \\cdot\n",
    "    \\sqrt{(T_{c,i} \\cdot T_{c,j})} $$"
   ]
  },
  {
   "cell_type": "markdown",
   "metadata": {
    "slideshow": {
     "slide_type": "subslide"
    }
   },
   "source": [
    "*Estimación de propiedades*\n",
    "Las propiedades termodinámicas se obtienen por medio de la energía de Helmoholtz y sus derivadas.\n",
    "\n",
    "$$ \\frac{p(\\delta, \\tau, \\bar{x})}{\\rho RT} = 1 + \\delta\\frac{\\partial\\alpha^r}{\\partial\\delta} $$\n",
    "$$ $$ \n",
    "$$ \\frac{c_v(\\delta, \\tau, \\bar{x})}{R} = -\\tau^2\\left(\n",
    "    \\frac{\\partial^2\\alpha^o}{\\partial\\tau^2} \n",
    "    +\n",
    "    \\frac{\\partial^2\\alpha^r}{\\partial\\tau^2} \n",
    "    \\right)$$"
   ]
  },
  {
   "cell_type": "markdown",
   "metadata": {
    "slideshow": {
     "slide_type": "slide"
    }
   },
   "source": [
    "### Estructura de la presentación\n",
    "---\n",
    "- Introducción\n",
    "- Modelos Termodinámicos\n",
    "    - GERG-2008\n",
    "- **Arquitectura e implementación del paquete**\n",
    "    - Desarrollo en Fortran\n",
    "    - Desarrollo en Python\n",
    "    - Testing\n",
    "    - Integración Continua\n",
    "- Ejemplo de uso\n",
    "- Conclusiones y perpectivas a futuro"
   ]
  },
  {
   "cell_type": "markdown",
   "metadata": {
    "slideshow": {
     "slide_type": "slide"
    }
   },
   "source": [
    "### Arquitectura e implementación\n",
    "----\n",
    "#### Desarrollo en FORTRAN\n",
    "- La ecuación de estado GERG-2008 está escrita en su totalidad en código Fortran 95.\n",
    "\n",
    "**Ventajas**\n",
    "- Rapidez para realizar operaciones matemáticas computacionalmente demandantes.\n",
    "- Esta rapidez en muchos casos supera a la alcanzada por Numpy, Numba y Julia\n",
    "- Puede ser integrado a Python por medio de la herramienta F2Py (Fortran to Python interface generator).\n",
    "    - F2Py genera módulos de extensión para Python\n",
    "    - Es posible acceder desde Python a subrutinas y variables del código Fortran\n",
    "    - A la inversa, es factible llamar desde Fortran a funciones escritas en código Python\n",
    "\n"
   ]
  },
  {
   "cell_type": "markdown",
   "metadata": {
    "slideshow": {
     "slide_type": "subslide"
    }
   },
   "source": [
    "#### Desarrollo en Python\n",
    "- PyForFluids está diseñado para incluir otras ecuaciones de estado.\n",
    "- Posee dos archivos de extensión .py, los cuales contienen las clases:\n",
    "    - Fluid\n",
    "    - GERG2008"
   ]
  },
  {
   "cell_type": "markdown",
   "metadata": {
    "slideshow": {
     "slide_type": "subslide"
    }
   },
   "source": [
    "#### Estructura de archivos\n",
    "\n",
    "<img src=arch.png width=1920px>\n",
    "\n"
   ]
  },
  {
   "cell_type": "markdown",
   "metadata": {
    "slideshow": {
     "slide_type": "subslide"
    }
   },
   "source": [
    "#### Garantía de calidad\n",
    "A la hora de desarrollar sofware de calidad es fundamental tener en cuenta principalmente dos aspectos: el testeo y la documentación.\n",
    "\n",
    "*Phasepy*\n",
    "\n",
    "- Open Source.\n",
    "- Ecuaciones de Estado.\n",
    "- Equilibrios de fase.\n",
    "- Ajuste de parámetros.\n",
    "\n",
    "LINK: https://github.com/gustavochm/phasepy\n",
    "\n",
    "**Principal inconveniente:**\n",
    "*Phasepy* no posee tests, lo que afecta a la calidad y confiabilidad del software."
   ]
  },
  {
   "cell_type": "markdown",
   "metadata": {
    "slideshow": {
     "slide_type": "subslide"
    }
   },
   "source": [
    "#### Testing\n",
    "- Pyforfluids tiene implementados y aprobados 17 tests (coverage de 97%)\n",
    "- Los tests están pensados para los métodos de las clases *Fluid* y *GERG2008*"
   ]
  },
  {
   "cell_type": "markdown",
   "metadata": {
    "slideshow": {
     "slide_type": "subslide"
    }
   },
   "source": [
    "##### Clase *Fluid*\n",
    "- Propiedades termodinámicas calculadas con `PyForFluids` con datos extraídos de bibliografía.\n",
    "- Emisión de `ValueError` cuando se define incorrectamente el fluido.\n",
    "- Se corrobora que un error de tipo `RunTimeError` se produzca cuando el método iterador para el cálculo de la densidad no converga antes de las 50 iteraciones.\n",
    "- Otro tests: Lectura de propiedades y la estructura del resumen final de estas propiedades calculadas con el modelo."
   ]
  },
  {
   "cell_type": "markdown",
   "metadata": {
    "slideshow": {
     "slide_type": "subslide"
    }
   },
   "source": [
    "##### Clase *GERG2008*\n",
    "- `UserWarning` si concentraciones no sumen 1 y/o los valores de P y T no se encuentran dentro del rango normal del uso del modelo GERG-2008.\n",
    "- `ValueError` si el usuario ingresa un nombre incorrecto para algún componente de la mezcla fluida.\n",
    "\n",
    "![plot](plot.png)"
   ]
  },
  {
   "cell_type": "markdown",
   "metadata": {
    "slideshow": {
     "slide_type": "subslide"
    }
   },
   "source": [
    "## Documentación "
   ]
  },
  {
   "cell_type": "code",
   "execution_count": 20,
   "metadata": {
    "slideshow": {
     "slide_type": "subslide"
    }
   },
   "outputs": [],
   "source": [
    "from pyforfluids.models import GERG2008\n",
    "GERG2008?"
   ]
  },
  {
   "cell_type": "code",
   "execution_count": 21,
   "metadata": {
    "slideshow": {
     "slide_type": "subslide"
    }
   },
   "outputs": [],
   "source": [
    "from pyforfluids.core import Fluid\n",
    "Fluid?"
   ]
  },
  {
   "cell_type": "markdown",
   "metadata": {
    "slideshow": {
     "slide_type": "subslide"
    }
   },
   "source": [
    "#### Integración Continua\n",
    "- PyForFluids realiza Integración Continua por medio de la herramienta provista por GitHub, *GitHub Actions*. \n",
    "\n",
    "- Por push:\n",
    "    - Tests facilitados por `tox`\n",
    "    - Build: Generación de `sdist` y `wheel`\n",
    "- En merge con branch `release`\n",
    "    - Se publica en PyPI \n",
    "    \n",
    "Así verifica que en cada push realizado a la rama principal del repositorio se genere un entorno virtual donde se realizan tests comprobando el funcionamiento del código."
   ]
  },
  {
   "cell_type": "markdown",
   "metadata": {
    "slideshow": {
     "slide_type": "slide"
    }
   },
   "source": [
    "### Estructura de la presentación\n",
    "---\n",
    "- Introducción\n",
    "- Modelos Termodinámicos\n",
    "    - GERG-2008\n",
    "- Arquitectura e implementación del paquete\n",
    "    - Desarrollo en Fortran\n",
    "    - Desarrollo en Python\n",
    "    - Testing\n",
    "    - Integración Continua\n",
    "- **Ejemplo de uso**\n",
    "- Conclusiones y perpectivas a futuro"
   ]
  },
  {
   "cell_type": "markdown",
   "metadata": {
    "slideshow": {
     "slide_type": "slide"
    }
   },
   "source": [
    "### Ejemplo de uso\n",
    "---"
   ]
  },
  {
   "cell_type": "code",
   "execution_count": 22,
   "metadata": {
    "slideshow": {
     "slide_type": "subslide"
    }
   },
   "outputs": [],
   "source": [
    "import numpy as np\n",
    "from pyforfluids.core import Fluid\n",
    "from pyforfluids.models import GERG2008\n",
    "import matplotlib.pyplot as plt"
   ]
  },
  {
   "cell_type": "code",
   "execution_count": 30,
   "metadata": {
    "slideshow": {
     "slide_type": "subslide"
    }
   },
   "outputs": [],
   "source": [
    "# Fluid initial state\n",
    "temperature = 250.0\n",
    "density = 1.0\n",
    "pressure = 101325.0\n",
    "composition = {'methane': 0.9, 'ethane':0.05, 'propane':0.05}\n",
    "\n",
    "# Fluid definition\n",
    "fluid = Fluid(model=GERG2008(), temperature=temperature, \n",
    "              composition=composition, density=density)\n",
    "\n",
    "# Calculate properties\n",
    "fluid.calculate_properties()"
   ]
  },
  {
   "cell_type": "code",
   "execution_count": 24,
   "metadata": {
    "scrolled": false,
    "slideshow": {
     "slide_type": "subslide"
    }
   },
   "outputs": [
    {
     "data": {
      "text/plain": [
       "{'density_r': 9.442772800175154,\n",
       " 'temperature_r': 207.1068112975803,\n",
       " 'delta': 0.10590109718423502,\n",
       " 'tau': 0.8284272451903212,\n",
       " 'ao': array([[-31.73718368,   0.        ,   0.        ],\n",
       "        [  9.4427728 , -49.99644005,   0.        ],\n",
       "        [-89.16595816,  -5.41251465,   0.        ]]),\n",
       " 'ar': array([[-0.08377226,  0.        ,  0.        ],\n",
       "        [-0.77333643, -0.22158182,  0.        ],\n",
       "        [ 0.34434261, -0.16608015, -2.06908556]]),\n",
       " 'z': 0.9181028240138784,\n",
       " 'cv': 31.832316160446968,\n",
       " 'cp': 43.80002201457299,\n",
       " 'w': 363.8745378059042,\n",
       " 'isothermal_thermal_coefficent': -0.30897403839287274,\n",
       " 'dp_dt': 9.142813763380433,\n",
       " 'dp_drho': 1746.17935406224,\n",
       " 'dp_dv': -1746.17935406224,\n",
       " 'p': 1908385.0558460802,\n",
       " 's': -81.32402993559684,\n",
       " 'u': -86474.61929300491,\n",
       " 'h': -84566.23423715883,\n",
       " 'g': -64235.22675325962,\n",
       " 'jt': 0.1598421372949578,\n",
       " 'k': 1.154075184198467,\n",
       " 'b': -0.08557993798318263,\n",
       " 'c': 0.003479888600305259}"
      ]
     },
     "execution_count": 24,
     "metadata": {},
     "output_type": "execute_result"
    }
   ],
   "source": [
    "# Se puede acceder a las propiedades calculadas del fluido consultando al atributo `properties`\n",
    "\n",
    "fluid.properties"
   ]
  },
  {
   "cell_type": "code",
   "execution_count": 25,
   "metadata": {
    "slideshow": {
     "slide_type": "subslide"
    }
   },
   "outputs": [],
   "source": [
    "# Cálculo de una isoterma dado un cierto rango de \n",
    "# densidad y a la temperatura del fluido\n",
    "density_range = np.linspace(0.1, 20, 100)\n",
    "jts = fluid.isotherm(density_range)['jt']"
   ]
  },
  {
   "cell_type": "code",
   "execution_count": 26,
   "metadata": {
    "slideshow": {
     "slide_type": "subslide"
    }
   },
   "outputs": [
    {
     "data": {
      "image/png": "[encoded data removed]",
      "text/plain": [
       "<Figure size 432x288 with 1 Axes>"
      ]
     },
     "metadata": {
      "needs_background": "light"
     },
     "output_type": "display_data"
    }
   ],
   "source": [
    "plt.plot(density_range, jts)\n",
    "plt.title('Coeficiente de JT - Densidad')\n",
    "plt.xlabel(r'$Densidad[mol/L]$',fontsize=12)\n",
    "plt.ylabel(r'$JT [K/Pa]$',fontsize=12)\n",
    "plt.show()"
   ]
  },
  {
   "cell_type": "markdown",
   "metadata": {
    "slideshow": {
     "slide_type": "subslide"
    }
   },
   "source": [
    "#### Ejemplo de uso incorrecto"
   ]
  },
  {
   "cell_type": "code",
   "execution_count": 27,
   "metadata": {
    "scrolled": false,
    "slideshow": {
     "slide_type": "subslide"
    }
   },
   "outputs": [
    {
     "name": "stderr",
     "output_type": "stream",
     "text": [
      "/home/ruther/docs/research/thermo/algos/pff/pyforfluids/models/gerg2008.py:81: UserWarning: GERG2008 Valid Components:\n",
      "{'nonane', 'propane', 'carbon_monoxide', 'hydrogen', 'oxygen', 'isobutane', 'hexane', 'octane', 'hydrogen_sulfide', 'carbon_dioxide', 'nitrogen', 'heptane', 'ethane', 'water', 'methane', 'helium', 'decane', 'isopentane', 'butane', 'pentane', 'argon'}\n",
      "  warnings.warn(\n"
     ]
    },
    {
     "ename": "ValueError",
     "evalue": "'{'wasser'}' ain't valid components",
     "output_type": "error",
     "traceback": [
      "\u001b[0;31m---------------------------------------------------------------------------\u001b[0m",
      "\u001b[0;31mValueError\u001b[0m                                Traceback (most recent call last)",
      "\u001b[0;32m<ipython-input-27-6b45b602369e>\u001b[0m in \u001b[0;36m<module>\u001b[0;34m\u001b[0m\n\u001b[1;32m      2\u001b[0m \u001b[0mbad_composition\u001b[0m \u001b[0;34m=\u001b[0m \u001b[0;34m{\u001b[0m\u001b[0;34m'methane'\u001b[0m\u001b[0;34m:\u001b[0m \u001b[0;36m0.5\u001b[0m\u001b[0;34m,\u001b[0m \u001b[0;34m'wasser'\u001b[0m\u001b[0;34m:\u001b[0m\u001b[0;36m0.5\u001b[0m\u001b[0;34m}\u001b[0m\u001b[0;34m\u001b[0m\u001b[0;34m\u001b[0m\u001b[0m\n\u001b[1;32m      3\u001b[0m \u001b[0;34m\u001b[0m\u001b[0m\n\u001b[0;32m----> 4\u001b[0;31m fluid = Fluid(model=GERG2008(), temperature=temperature, \n\u001b[0m\u001b[1;32m      5\u001b[0m               composition=bad_composition, density=density)\n",
      "\u001b[0;32m~/docs/research/thermo/algos/pff/pyforfluids/core.py\u001b[0m in \u001b[0;36m__init__\u001b[0;34m(self, model, composition, temperature, pressure, density)\u001b[0m\n\u001b[1;32m     71\u001b[0m         \u001b[0mself\u001b[0m\u001b[0;34m.\u001b[0m\u001b[0mproperties\u001b[0m \u001b[0;34m=\u001b[0m \u001b[0;34m{\u001b[0m\u001b[0;34m}\u001b[0m\u001b[0;34m\u001b[0m\u001b[0;34m\u001b[0m\u001b[0m\n\u001b[1;32m     72\u001b[0m \u001b[0;34m\u001b[0m\u001b[0m\n\u001b[0;32m---> 73\u001b[0;31m         \u001b[0mmodel\u001b[0m\u001b[0;34m.\u001b[0m\u001b[0mvalidate_components\u001b[0m\u001b[0;34m(\u001b[0m\u001b[0mcomposition\u001b[0m\u001b[0;34m)\u001b[0m\u001b[0;34m\u001b[0m\u001b[0;34m\u001b[0m\u001b[0m\n\u001b[0m\u001b[1;32m     74\u001b[0m \u001b[0;34m\u001b[0m\u001b[0m\n\u001b[1;32m     75\u001b[0m         \u001b[0;32mif\u001b[0m \u001b[0mdensity\u001b[0m \u001b[0;32mis\u001b[0m \u001b[0;32mNone\u001b[0m\u001b[0;34m:\u001b[0m\u001b[0;34m\u001b[0m\u001b[0;34m\u001b[0m\u001b[0m\n",
      "\u001b[0;32m~/docs/research/thermo/algos/pff/pyforfluids/models/gerg2008.py\u001b[0m in \u001b[0;36mvalidate_components\u001b[0;34m(self, components)\u001b[0m\n\u001b[1;32m     83\u001b[0m                 \u001b[0mcategory\u001b[0m\u001b[0;34m=\u001b[0m\u001b[0mUserWarning\u001b[0m\u001b[0;34m,\u001b[0m\u001b[0;34m\u001b[0m\u001b[0;34m\u001b[0m\u001b[0m\n\u001b[1;32m     84\u001b[0m             )\n\u001b[0;32m---> 85\u001b[0;31m             \u001b[0;32mraise\u001b[0m \u001b[0mValueError\u001b[0m\u001b[0;34m(\u001b[0m\u001b[0;34mf\"'{diff}' ain't valid components\"\u001b[0m\u001b[0;34m)\u001b[0m\u001b[0;34m\u001b[0m\u001b[0;34m\u001b[0m\u001b[0m\n\u001b[0m\u001b[1;32m     86\u001b[0m \u001b[0;34m\u001b[0m\u001b[0m\n\u001b[1;32m     87\u001b[0m     \u001b[0;32mdef\u001b[0m \u001b[0mvalidate_ranges\u001b[0m\u001b[0;34m(\u001b[0m\u001b[0mself\u001b[0m\u001b[0;34m,\u001b[0m \u001b[0mtemperature\u001b[0m\u001b[0;34m,\u001b[0m \u001b[0mpressure\u001b[0m\u001b[0;34m)\u001b[0m\u001b[0;34m:\u001b[0m\u001b[0;34m\u001b[0m\u001b[0;34m\u001b[0m\u001b[0m\n",
      "\u001b[0;31mValueError\u001b[0m: '{'wasser'}' ain't valid components"
     ]
    }
   ],
   "source": [
    "# Nombre de compuesto incorrecto\n",
    "bad_composition = {'methane': 0.5, 'wasser':0.5}\n",
    "\n",
    "fluid = Fluid(model=GERG2008(), temperature=temperature, \n",
    "              composition=bad_composition, density=density)"
   ]
  },
  {
   "cell_type": "code",
   "execution_count": 28,
   "metadata": {
    "slideshow": {
     "slide_type": "subslide"
    }
   },
   "outputs": [
    {
     "ename": "ValueError",
     "evalue": "Can't define pressure and density at the same time",
     "output_type": "error",
     "traceback": [
      "\u001b[0;31m---------------------------------------------------------------------------\u001b[0m",
      "\u001b[0;31mValueError\u001b[0m                                Traceback (most recent call last)",
      "\u001b[0;32m<ipython-input-28-1824e345faa7>\u001b[0m in \u001b[0;36m<module>\u001b[0;34m\u001b[0m\n\u001b[1;32m      1\u001b[0m \u001b[0;31m# Fijar presión y densidad simultáneamente\u001b[0m\u001b[0;34m\u001b[0m\u001b[0;34m\u001b[0m\u001b[0m\n\u001b[0;32m----> 2\u001b[0;31m fluid = Fluid(model=GERG2008(), temperature=temperature, \n\u001b[0m\u001b[1;32m      3\u001b[0m               composition=composition, density=density, pressure=pressure)\n",
      "\u001b[0;32m~/docs/research/thermo/algos/pff/pyforfluids/core.py\u001b[0m in \u001b[0;36m__init__\u001b[0;34m(self, model, composition, temperature, pressure, density)\u001b[0m\n\u001b[1;32m     60\u001b[0m             \u001b[0mdensity\u001b[0m\u001b[0;34m,\u001b[0m\u001b[0;34m\u001b[0m\u001b[0;34m\u001b[0m\u001b[0m\n\u001b[1;32m     61\u001b[0m         ):\n\u001b[0;32m---> 62\u001b[0;31m             raise ValueError(\n\u001b[0m\u001b[1;32m     63\u001b[0m                 \u001b[0;34m\"Can't define pressure and density at the same time\"\u001b[0m\u001b[0;34m\u001b[0m\u001b[0;34m\u001b[0m\u001b[0m\n\u001b[1;32m     64\u001b[0m             )\n",
      "\u001b[0;31mValueError\u001b[0m: Can't define pressure and density at the same time"
     ]
    }
   ],
   "source": [
    "# Fijar presión y densidad simultáneamente\n",
    "fluid = Fluid(model=GERG2008(), temperature=temperature, \n",
    "              composition=composition, density=density, pressure=pressure)"
   ]
  },
  {
   "cell_type": "markdown",
   "metadata": {
    "slideshow": {
     "slide_type": "slide"
    }
   },
   "source": [
    "### Estructura de la presentación\n",
    "---\n",
    "- Introducción\n",
    "- Modelos Termodinámicos\n",
    "    - GERG-2008\n",
    "- Arquitectura e implementación del paquete\n",
    "    - Desarrollo en Fortran\n",
    "    - Desarrollo en Python\n",
    "    - Testing\n",
    "    - Integración Continua\n",
    "- Ejemplo de uso\n",
    "- **Conclusiones y perspectivas a futuro**"
   ]
  },
  {
   "cell_type": "markdown",
   "metadata": {
    "slideshow": {
     "slide_type": "slide"
    }
   },
   "source": [
    "### Conclusiones y perspectivas futuras\n",
    "---\n",
    "#### Conclusiones\n",
    "\n",
    "- PyForFluids es una herramienta que aprovecha tanto código veloz desarrollado en Fortran 95 como la extensibilidad y practicidad de Python dentro de un mismo paquete.\n",
    "- Está diseñado para ser fácilmente utilizado y actualizado. Para esto último, se apoya en el sistema de integración continua que verifica el correcto funcionamiento del código luego de cada agregado o modificación realizada."
   ]
  },
  {
   "cell_type": "markdown",
   "metadata": {
    "slideshow": {
     "slide_type": "subslide"
    }
   },
   "source": [
    "\n",
    "#### Perspectivas a futuro\n",
    "- PyForFluids es una herramienta en desarrollo y posee un gran potencial de crecimiento.\n",
    "- Actualmente está en su versión 0.0.1-a1.\n",
    "- Próximas actualizaciones:\n",
    "    - **Incorporación** de múltiples **modelos** termodinámicos. Creación de una **base de datos** que contenga parámetros utilizados por los mismos.\n",
    "    - Permitirle al usuario emplear sus **propios parámetros** obtenidos del ajuste de datos experimentales.\n",
    "    - Incorporar cálculos relacionados a **equilibrio de fases**: cálculos flash, estabilidad de fases, trazado de diagramas de equilibrio.\n",
    "- **Criterio de calidad:** Para garantizar el correcto funcionamiento del paquete a medida que se agregan funcionalidades se considera fundamental no solo mantener el nivel de coverage mayor a 95%, sino también profundizar los tests realizados, como por ejemplo, añadir *testing basado en propiedades*."
   ]
  },
  {
   "cell_type": "markdown",
   "metadata": {
    "slideshow": {
     "slide_type": "slide"
    }
   },
   "source": [
    "# Muchas gracias!"
   ]
  },
  {
   "cell_type": "markdown",
   "metadata": {
    "slideshow": {
     "slide_type": "slide"
    }
   },
   "source": [
    "# Referencias\n",
    "\n",
    "- Champman, W., Gubbins, K., & Jackson, G. Radosz, M. 1989, Fluid Phase Equilibria, 52, 31\n",
    "- Chaparro, G. & Mejía, A. 2020, Journal of Computational Chemistry\n",
    "- Elliot, J. R. & Lira, C. T. 2012, Introductory Chemical Engineering Thermodynamics\n",
    "- Fowler, M. & Foemmel, M. 2006, Continuous integration\n",
    "- Kontogeorgis, G., Voutsas, E., Yankoumis, I., & Tassios, D. 1996, Industrial & Engineering Chemistry Research\n",
    "- Kunz, O. & Wagner, W. 2012, Journal of Chemical and Engineering Data\n",
    "- Papaioannou, V., Calado, F., Laffite, T., et al. 2015, Fluid Phase Equilibria\n",
    "- Peng, D. & Robinson, D. 1975, Industrial and Engineering Chemical Fundamentals\n",
    "- Soave, G. 1971, Chemical Engineering Science\n",
    "- Span, R. 2000, Multiparameter Equations of state"
   ]
  }
 ],
 "metadata": {
  "celltoolbar": "Slideshow",
  "kernelspec": {
   "display_name": "Python 3",
   "language": "python",
   "name": "python3"
  },
  "language_info": {
   "codemirror_mode": {
    "name": "ipython",
    "version": 3
   },
   "file_extension": ".py",
   "mimetype": "text/x-python",
   "name": "python",
   "nbconvert_exporter": "python",
   "pygments_lexer": "ipython3",
   "version": "3.9.9"
  }
 },
 "nbformat": 4,
 "nbformat_minor": 4
}
