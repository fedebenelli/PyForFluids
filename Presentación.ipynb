{
 "cells": [
  {
   "cell_type": "markdown",
   "metadata": {
    "slideshow": {
     "slide_type": "slide"
    }
   },
   "source": [
    "##### Facultad de Matemática, Física, Astronomía y Computación - Universidad Nacional de Córdoba\n",
    "##### Curso de Posgrado\n",
    "# Diseño de Software para Cómputo Científico\n",
    "----\n",
    "\n",
    "#### Presentación Trabajo Final"
   ]
  },
  {
   "cell_type": "markdown",
   "metadata": {
    "slideshow": {
     "slide_type": "slide"
    }
   },
   "source": [
    "### PyForFluids: Cálculo de propiedades termodinámicas de Fluidos en base a ecuaciones de estado\n",
    "---\n",
    "**Autores:** \n",
    " - Federico Benelli\n",
    " - Candelaria Arpajou\n",
    "\n",
    "**Profesores:**\n",
    " - Juan Bautista Cabral\n",
    " - Martín Chalela\n"
   ]
  },
  {
   "cell_type": "markdown",
   "metadata": {},
   "source": [
    "### Estructura de la presentación\n",
    "---\n",
    "- **Introducción**\n",
    "- Modelos Termodinámicos\n",
    "    - GERG-2008\n",
    "- Arquitectura e implementación del paquete\n",
    "    - Desarrollo en Fortran\n",
    "    - Desarrollo en Python\n",
    "    - Testing\n",
    "    - Integración Continua\n",
    "- Ejemplo de uso\n",
    "- Conclusiones y perpectivas a futuro\n"
   ]
  },
  {
   "cell_type": "markdown",
   "metadata": {
    "slideshow": {
     "slide_type": "slide"
    }
   },
   "source": [
    "### Introducción\n",
    "----\n",
    "- El conocimiento preciso de las propiedades termodinámicas del gas natural es indispensable en el ámbito de los procesos ingenieriles.\n",
    "- Sectores vinculados a la producción de gas y petróleo han actuado como impulsores del desarrollo de ecuaciones de estado (modelos capaces de predecir con exactitud las propiedades muchos compuestos).\n",
    "- Existen numerosos simuladores comerciales capaces de predecir las propiedades termodinámicas de mezclas fluidas: gPROMS, ASPEN PLUS, entre otros."
   ]
  },
  {
   "cell_type": "markdown",
   "metadata": {},
   "source": [
    "- **Principales desventajas de estos simuladores**.\n",
    " - Su licencia es muy costosa.\n",
    " - Son complejos de usar. Su completo entendimiento y manejo lleva tiempo.\n",
    " - No es posible acceder a las ecuaciones de los modelos que soportan.\n",
    " \n",
    "##### Alternativa: Desarrollo de programas open-source capaces de estimar propiedades termodinámicas de compuesto puros y mezclas"
   ]
  },
  {
   "cell_type": "markdown",
   "metadata": {},
   "source": [
    "#### PyForFluids\n",
    "----\n",
    " - PyForFluids, abreviación de Python-Fortran-Fluids, es un paquete de Python destinado al cálculo de propiedades termodinámicas de fluidos.\n",
    " - Implementa la ecuación de estado GERG2008, escrita en código FORTRAN 95.\n",
    " - El programa en FORTRAN se integra al paquete de Python por medio de la herramienta F2Py. "
   ]
  },
  {
   "cell_type": "markdown",
   "metadata": {},
   "source": [
    "### Estructura de la presentación\n",
    "---\n",
    "- Introducción\n",
    "- **Modelos Termodinámicos**\n",
    "    - GERG-2008\n",
    "- Arquitectura e implementación del paquete\n",
    "    - Desarrollo en Fortran\n",
    "    - Desarrollo en Python\n",
    "    - Testing\n",
    "    - Integración Continua\n",
    "- Ejemplo de uso\n",
    "- Conclusiones y perpectivas a futuro"
   ]
  },
  {
   "cell_type": "markdown",
   "metadata": {
    "slideshow": {
     "slide_type": "slide"
    }
   },
   "source": [
    "### Modelos Termodinámicos\n",
    "---\n",
    "- Los modelos termodinámicos son desarrollos matemáticos que permiten conocer y evaluar el comportamiento termodinámico de un sistema bajo determinadas condiciones.\n",
    "- Este sistema puede ser una sustancia pura o una mezcla.\n",
    "- Una ecuación de estado forma parte de un modelo termodinámico y permite conocer las propiedades termodinámicas del sistema, digase entalpía, entropía, calores específicos, entre otros, a partir de variables factibles a ser determinadas experimentalmente como la temperatura, presión, volumen y composición. \n",
    "- La ecuación de estado más simple es la llamda Ley de Gases Ideales:\n",
    "\n",
    "$$ PV = RT $$\n",
    "\n",
    "donde $P$ es la presión del sistema, $T$ su temperatura, $V$ su volumen y $R$ la constante universal de los gases."
   ]
  },
  {
   "cell_type": "markdown",
   "metadata": {},
   "source": [
    "Existen numerosas ecuaciones de estado desarrolladas hasta el momento. Se las puede clasificar principalmente en 4 grupos:\n",
    "\n",
    "  - **Cúbicas.** Son ecuaciones derivadas de la ecuación de Van der Waals. Son cúbicas en el volumen y poseen dos términos: uno representa la repulsión entre las moléculas y otro la atracción entre las mismas.\n",
    "  - **SAFT.** Se derivan de teoría estadística de asociación de fluidos. Poseen tres términos: uno relacionado a la estructura de las moléculas, uno vincuado a su dispersión y otro asociativo, asociado a las fuerzas homónimas.\n",
    "  - **Multiparamétricas**. No poseen una base teórica muy profunda. Se basan en el ajuste de un gran número de parámetros a partir de datos experimentales.\n",
    "  - **Virial**. Son expansiones en series del factor de compresibilidad (cociente entre el volumen real con el volumen de gas ideal)\n",
    "  \n"
   ]
  },
  {
   "cell_type": "markdown",
   "metadata": {},
   "source": [
    "### Modelos Termodinámicos\n",
    "##### GERG2008\n",
    "---\n",
    "- Ecuación de estado del tipo multiparamétrica desarrollada por el equipor GERG. Pensada para su aplicación en la industria del gas y petróleo.\n",
    "- Es explícita en la **energía de Helmoltz** como función de la composición, densidad y temperatura. Su extresión mtemática es:\n",
    "\n",
    "$$ \\alpha(\\bar{x}, \\rho, T) = \\alpha^o(\\bar{x}, \\rho, T) + \\alpha^r(\\bar{x}, \\rho, T)$$\n",
    "\n",
    "- Hace uso de las derivadas de la energía de Helmoltz para calcular gran número de propiedades como la presión, calores específicos, coeficientes de fugacidad de la mezcla fluida."
   ]
  },
  {
   "cell_type": "markdown",
   "metadata": {},
   "source": [
    "La expresión matemática de la energía libre de Helmoltz posee dos términos:\n",
    "- Primer término. **Energía de Helmholtz de gas ideal:**\n",
    "\n",
    "$$ \\alpha^o (\\bar{x}, \\rho, T) = \\sum_{i=1}^{N} x_i\\left[\n",
    "    \\alpha_i^o(\\rho, T) + \\ln x_i\n",
    "    \\right]$$\n",
    "\n",
    "- Segundo término. **Energía de Helmholtz residual:**\n",
    "\n",
    "$$ \\label{eq:residual_term}\n",
    "    \\alpha^r(\\bar{x}, \\delta, \\tau) = \n",
    "    \\sum_{i=1}^N x_i \\alpha_i^r(\\delta, \\tau) +\n",
    "    \\sum_{i=1}^{N-1}\\sum_{j=i+1}^N x_i x_j F_{ij}\\alpha_{ij}^r(\\delta, \\tau) $$\n"
   ]
  },
  {
   "cell_type": "markdown",
   "metadata": {},
   "source": [
    "A su vez, el *término ideal* consiste en la combinación lineal de las energías de Helmholtz de gas ideal de los compuestos puros\n",
    "sumado a la entropía de mezclado\n",
    "\n",
    "$$ \\alpha_i^o(\\rho, T) = \\ln \\left(\\frac{\\rho}{\\rho_{c,i}}\\right) + \\frac{R^{*}}{R} \\left[ n_{i,1} + n_{i,2} \\frac{T_{c,i}}{T} + n_{i,3}\\ln \\left(\\frac{T_{c,i}}{T}\\right)+ \\sum_{k=4,6} n_{i,k}\\ln\\left(\\left|\\sinh\\left(\\vartheta_{i,k}\\frac{T_c}{T}\\right)\\right|\\right)-\\sum_{k=5,7} n_{i,k}\\ln\\left(\n",
    "                  \\cosh\\left(\\vartheta_{i,k}\\frac{T_c}{T}\\right)\\right)\\right] $$"
   ]
  },
  {
   "cell_type": "markdown",
   "metadata": {},
   "source": [
    "El *término residual* consiste en la combinación lineal de la energía residual de compuestos puros ( $\\alpha_i^r(\\delta,\\tau)$ ) y la combinación de interacciones binarias ( $\\alpha_{ij}^r(\\delta, \\tau)$ ).\n",
    "\n",
    "$$ \\alpha^r_i(\\delta, \\tau) = \\sum_{k=1}^{K_{Pol,i}} n_{i,k}\\delta^d_{i,k} \\tau^{t_{i,k}} +\n",
    "    \\sum_{k=K_{Pol,i}+1}^{K_{Pol,i}+K_{Exp,i}} n_{i,k} \\delta^d_{i,k}\\tau^{t_{i,k}}e^{-\\delta^{c_{i,k}}}$$\n",
    "\n",
    "$$ \\alpha^r_{ij}(\\delta, \\tau) = \\sum_{k=1}^{K_{Pol,ij} n_{ij,k}}\\delta^{d_{ij,k}}\\tau^{t_{ij,k}} +\\sum_{k=K_{Pol,ij}+1}^{K_{Pol,ij}+K_{Exp,ij}}n_{ij,k}\\delta^{d_{ij,k}}\\tau^{t_{ij,k}}\\cdot\\exp\\left[-\\eta_{ij, k}(\\delta-\\varepsilon_{ij,k})^2-\\beta_{ij, k}(\\delta-\\gamma_{ij,k})\\right]$$"
   ]
  },
  {
   "cell_type": "markdown",
   "metadata": {},
   "source": [
    "A diferencia del *término ideal*, el cual se calcula por medio de la densidad y temperatura de la mezcla ($T,\\rho$), el *término residual* se obtiene por medio de la densidad y temperatura reducidas ($\\delta,\\tau$). Estas últimas se calculan por medio de la densidad y temperatura reductoras, variables dependientes de la composición del sistema.\n",
    "\n",
    "$$\\delta = \\frac{\\rho}{\\rho_r(\\bar{x})}$$\n",
    "$ $\n",
    "$$ \\frac{1}{\\rho_r(\\bar{x})} = \\sum_{i=1}^N\\sum_{j=1}^N \n",
    "    x_i x_j\\beta_{\\nu,ij}\\gamma_{\\nu,ij} \\cdot\n",
    "    \\frac{x_i + x_j}{\\beta_{\\nu,ij}^2 x_i + x_j} \\cdot\n",
    "    \\frac{1}{8} \\left( \\frac{1}{\\rho_{c,i}^{1/3} + \\rho_{c,j}^{1/3}}\\right)^3 $$\n",
    "$ $ \n",
    "$$\\tau = \\frac{T_r(\\bar{x})}{T}$$\n",
    "$ $\n",
    "$$ T_r(\\bar{x}) = \\sum_{i=1}^N\\sum_{j=1}^N \n",
    "    x_i x_j\\beta_{T,ij}\\gamma_{T,ij} \\cdot\n",
    "    \\frac{x_i + x_j}{\\beta_{T,ij}^2 x_i + x_j} \\cdot\n",
    "    \\sqrt{(T_{c,i} \\cdot T_{c,j})} $$"
   ]
  },
  {
   "cell_type": "markdown",
   "metadata": {},
   "source": [
    "*Estimación de propiedades*\n",
    "Las propiedades termodinámicas se obtienen por medio de la energía de Helmoholtz y sus derivadas.\n",
    "\n",
    "$$ \\frac{p(\\delta, \\tau, \\bar{x})}{\\rho RT} = 1 + \\delta\\frac{\\partial\\alpha^r}{\\partial\\delta} $$\n",
    "$$ $$ \n",
    "$$ \\frac{c_v(\\delta, \\tau, \\bar{x})}{R} = -\\tau^2\\left(\n",
    "    \\frac{\\partial^2\\alpha^o}{\\partial\\tau^2} \n",
    "    +\n",
    "    \\frac{\\partial^2\\alpha^r}{\\partial\\tau^2} \n",
    "    \\right)$$"
   ]
  },
  {
   "cell_type": "markdown",
   "metadata": {},
   "source": [
    "### Estructura de la presentación\n",
    "---\n",
    "- Introducción\n",
    "- Modelos Termodinámicos\n",
    "    - GERG-2008\n",
    "- **Arquitectura e implementación del paquete**\n",
    "    - Desarrollo en Fortran\n",
    "    - Desarrollo en Python\n",
    "    - Testing\n",
    "    - Integración Continua\n",
    "- Ejemplo de uso\n",
    "- Conclusiones y perpectivas a futuro"
   ]
  },
  {
   "attachments": {
    "5a5b7b98-8757-41f3-bec4-a4bd73a7ef8d.png": {
     "image/png": "[encoded data removed]"
    }
   },
   "cell_type": "markdown",
   "metadata": {
    "slideshow": {
     "slide_type": "subslide"
    }
   },
   "source": [
    "### Arquitectura e implementación\n",
    "----\n",
    "#### Desarrollo en FORTRAN\n",
    "- La ecuación de estado GERG-2008 está escrita en su totalidad en código Fortran 95.\n",
    "\n",
    "**Ventajas**\n",
    "- Rapidez para realizar operaciones matemáticas computacionalmente demandantes.\n",
    "- Esta rapidez supera a la alcanzada por Numpy, Numba y Julia\n",
    "- Puede ser integrado a Python por medio de la herramienta F2Py (Fortran to Python interface generator).\n",
    "    - F2Py genera módulos de extensión para Python\n",
    "    - Es posible acceder desde Python a subrutinas y variables del código FORTRAN\n",
    "    - A la inversa, es factible llamar desde FORTRAN a funciones escritas en código Python\n",
    "\n",
    "\n",
    "- En PyForFluids están presentes 3 archivos de extensión .f95 pertenecientes a la ecuación de estado GERG-2008. \n",
    "    - *gerg2008.f95.* Contiene las subrutinas necesarias para el cálculo de la densidad y temperatura reductoras, el término ideal, el residual y la Departure Function. \n",
    "    - *parameters.f95.* Posee los parámetros termodinámicos característicos de los compuestos pertenecientes al modelo\n",
    "    - *thermoprops.f95.* Incluye las subrutinas necesarias para el c ́alculo de las propiedades termodinámicas de las diferentes mezclas fluida.\n",
    "    \n",
    "![Captura de pantalla 2021-12-08 a la(s) 09.44.55.png](attachment:5a5b7b98-8757-41f3-bec4-a4bd73a7ef8d.png)"
   ]
  },
  {
   "attachments": {
    "f53c28d7-28d9-4082-9cba-3b360dc61d29.png": {
     "image/png": "[encoded data removed]"
    }
   },
   "cell_type": "markdown",
   "metadata": {},
   "source": [
    "#### Desarrollo en Python\n",
    "- PyForFluids está diseñado para incluir otras ecuaciones de estado.\n",
    "- Posee dos archivos de extensión .py\n",
    "    - *core.py.* Posee la clase *Fluid*, la cual recibe como parámetros el modelo a utilizar (la ecuación de estado), la composición de la mezcla, su temperatura y su presión o densidad.\n",
    "    - *gerg2008.py.* Permite exportar los módulos de FORTRAN y con ello calcular las propiedades termodinámicas de la mezcla fluida. También incluye métodos para vericar que las características del fluido sean acordes para el empleo de la ecuación GERG2008 . \n",
    "\n",
    "![Captura de pantalla 2021-12-08 a la(s) 09.44.55.png](attachment:f53c28d7-28d9-4082-9cba-3b360dc61d29.png)"
   ]
  },
  {
   "cell_type": "markdown",
   "metadata": {},
   "source": [
    "#### Garantía de calidad\n",
    "A la hora de desarrollar sofware de calidad es fundamental tener en cuenta principalmente dos aspectos: el testo y la documentación.\n",
    "\n",
    "*Phasepy* es un paquete open-source de Python que implementa varios tipos distintos de ecuaciones de estado para determinar las propiedades termodinámicas de una mezcla. Posee también funciones para el cálculo de equilibrios de fase, cálculos multiflash, ajuste de parámetros, etc.\n",
    "\n",
    "LINK: https://github.com/gustavochm/phasepy\n",
    "\n",
    "**Principal inconveniente:**\n",
    "*Phasepy* no posee tests, lo que afecta a la calidad y confiabilidad del software."
   ]
  },
  {
   "cell_type": "markdown",
   "metadata": {},
   "source": [
    "#### Testing\n",
    "- Pyforfluids tiene implementados y aprobados 17 tests (coverage de 97%)\n",
    "- Los tests están pensados para los métodos de las clases *Fluid* y *GERG2008*\n",
    "\n",
    "##### Clase *Fluid*\n",
    "- Se compara el valor de las propiedades termodinámicas calculadas con PyForFluids con los datos extraídos de bibliografía.\n",
    "- Se verifica que un error de tipo ValueError seaa emitido cuado el usurio defina incorrectamente el fluido.\n",
    "- Se corrobora que un error de tipo RunTimeError se produzca cuando el método iterador para el cálculo de la densidad no converga antes de las 50 iteraciones.\n",
    "- Otro tests: Se testea el acceso a valores de las propiedades termodiámicas como un diccionario y la estructura del resumen final de estas propiedades calculadas con el modelo."
   ]
  },
  {
   "attachments": {
    "bf4f0254-14b3-492f-8dbe-7dc2a8d02e13.png": {
     "image/png": "[encoded data removed]"
    }
   },
   "cell_type": "markdown",
   "metadata": {},
   "source": [
    "##### Clase *GERG2008*\n",
    "- Se controla que warnings del tipo UserWarning sean emitidos cuando las composiciones de los compuestos de la mezcla no sumen 1 y cuando los valores de presión y temperatura no se encuentran dentro del rango normal del uso del modelo GERG-2008.\n",
    "- Se testea que se muestre un error de tipo ValueError en el momento en que el usuario ingresa un nombre incorrecto para algún componente de la mezcla fluida.\n",
    "\n",
    "![Captura de pantalla 2021-12-08 a la(s) 10.58.46.png](attachment:bf4f0254-14b3-492f-8dbe-7dc2a8d02e13.png)"
   ]
  },
  {
   "cell_type": "markdown",
   "metadata": {},
   "source": [
    "#### Documentación "
   ]
  },
  {
   "cell_type": "code",
   "execution_count": null,
   "metadata": {},
   "outputs": [],
   "source": [
    "GERG2008?"
   ]
  },
  {
   "cell_type": "code",
   "execution_count": null,
   "metadata": {},
   "outputs": [],
   "source": [
    "Fluid?"
   ]
  },
  {
   "cell_type": "markdown",
   "metadata": {},
   "source": [
    "#### Integración Continua\n",
    "- PyForFluids realiza Integración Continua por medio de la herramienta provista por GitHub, *GitHub Actions*. \n",
    "- Así verifica que en cada push realizado a la rama principal del repositorio se genere un entorno virtual donde se realizan tests comprobando el funcionamiento del código."
   ]
  },
  {
   "cell_type": "markdown",
   "metadata": {},
   "source": [
    "### Estructura de la presentación\n",
    "---\n",
    "- Introducción\n",
    "- Modelos Termodinámicos\n",
    "    - GERG-2008\n",
    "- Arquitectura e implementación del paquete\n",
    "    - Desarrollo en Fortran\n",
    "    - Desarrollo en Python\n",
    "    - Testing\n",
    "    - Integración Continua\n",
    "- **Ejemplo de uso**\n",
    "- Conclusiones y perpectivas a futuro"
   ]
  },
  {
   "cell_type": "markdown",
   "metadata": {
    "slideshow": {
     "slide_type": "subslide"
    }
   },
   "source": [
    "### Ejemplo de uso\n",
    "---"
   ]
  },
  {
   "cell_type": "code",
   "execution_count": 2,
   "metadata": {},
   "outputs": [],
   "source": [
    "import numpy as np\n",
    "from pyforfluids.core import Fluid\n",
    "from pyforfluids.models import GERG2008"
   ]
  },
  {
   "cell_type": "code",
   "execution_count": 5,
   "metadata": {},
   "outputs": [],
   "source": [
    "# Fluid initial state\n",
    "temperature = 250.0\n",
    "density = 1.0\n",
    "pressure = 101325.0\n",
    "composition = {'methane': 0.9, 'ethane':0.05, 'propane':0.05}\n",
    "\n",
    "# Fluid definition\n",
    "fluid = Fluid(model = GERG2008(), temperature = temperature, composition = composition, density = density)\n",
    "\n",
    "# Calculate properties\n",
    "fluid.calculate_properties()"
   ]
  },
  {
   "cell_type": "code",
   "execution_count": 6,
   "metadata": {},
   "outputs": [
    {
     "name": "stdout",
     "output_type": "stream",
     "text": [
      "density_r\n",
      "9.442772800175154\n",
      "\n",
      "temperature_r\n",
      "207.1068112975803\n",
      "\n",
      "delta\n",
      "0.10590109718423502\n",
      "\n",
      "tau\n",
      "0.8284272451903212\n",
      "\n",
      "ao\n",
      "[[-31.73718368   0.           0.        ]\n",
      " [  9.4427728  -49.99644005   0.        ]\n",
      " [-89.16595816  -5.41251465   0.        ]]\n",
      "\n",
      "ar\n",
      "[[-0.08377226  0.          0.        ]\n",
      " [-0.77333643 -0.22158182  0.        ]\n",
      " [ 0.34434261 -0.16608015 -2.06908556]]\n",
      "\n",
      "z\n",
      "0.9181028240138784\n",
      "\n",
      "cv\n",
      "31.832316160446968\n",
      "\n",
      "cp\n",
      "43.80002201457299\n",
      "\n",
      "w\n",
      "363.8745378059042\n",
      "\n",
      "isothermal_thermal_coefficent\n",
      "-0.30897403839287274\n",
      "\n",
      "dp_dt\n",
      "9.142813763380433\n",
      "\n",
      "dp_drho\n",
      "1746.17935406224\n",
      "\n",
      "dp_dv\n",
      "-1746.17935406224\n",
      "\n",
      "p\n",
      "1908385.0558460802\n",
      "\n",
      "s\n",
      "-81.32402993559684\n",
      "\n",
      "u\n",
      "-86474.61929300491\n",
      "\n",
      "h\n",
      "-84566.23423715883\n",
      "\n",
      "g\n",
      "-64235.22675325962\n",
      "\n",
      "jt\n",
      "0.1598421372949578\n",
      "\n",
      "k\n",
      "1.154075184198467\n",
      "\n",
      "b\n",
      "-0.08557993798318263\n",
      "\n",
      "c\n",
      "0.003479888600305259\n",
      "\n"
     ]
    }
   ],
   "source": [
    "for item in fluid.properties:\n",
    "    print(f'{item}\\n{fluid.properties[item]}\\n')"
   ]
  },
  {
   "cell_type": "markdown",
   "metadata": {},
   "source": [
    "#### Ejemplo de uso incorrecto"
   ]
  },
  {
   "cell_type": "code",
   "execution_count": 7,
   "metadata": {},
   "outputs": [],
   "source": [
    "# Nombre de compuesto incorrecto\n",
    "composition_2 = {'methane': 0.5, 'water':0.5}\n",
    "fluid = Fluid(model = GERG2008(), temperature = temperature, composition = composition_2, density = density)"
   ]
  },
  {
   "cell_type": "code",
   "execution_count": 72,
   "metadata": {},
   "outputs": [],
   "source": [
    "# Fijar presión y densidad simultáneamente\n",
    "fluid = Fluid(model = GERG2008(), temperature = temperature, composition = composition, density = density, pressure = pressure)"
   ]
  },
  {
   "cell_type": "markdown",
   "metadata": {},
   "source": [
    "#### Emisión de Warnings"
   ]
  },
  {
   "cell_type": "code",
   "execution_count": 105,
   "metadata": {},
   "outputs": [],
   "source": [
    "fluid_warn = Fluid(model = GERG2008(), temperature = 600, composition = composition, density = density)"
   ]
  },
  {
   "cell_type": "code",
   "execution_count": null,
   "metadata": {},
   "outputs": [],
   "source": [
    "fluid_warn = Fluid(model = GERG2008(), temperature = -600, composition = composition, density = density)"
   ]
  },
  {
   "cell_type": "markdown",
   "metadata": {},
   "source": [
    "### Conclusiones y perspectivas futuras\n",
    "---\n",
    "#### Conslusiones\n",
    "\n",
    "- PyForFluids es una herramienta que aprovecha tanto código veloz desarrollado en Fortran 95 como la extensibilidad y practicidad de Python dentro de un mismo paquete.\n",
    "- Está diseñado para ser fácilmente utilizado y actualizado. Para esto último, se apoya en el sistema de integración continua que verifica el correcto funcionamiento del código luego de cada agregado o modificación realizada."
   ]
  },
  {
   "cell_type": "markdown",
   "metadata": {},
   "source": [
    "\n",
    "#### Perspectivas a futuro\n",
    "- PyForFluids es una herramienta en desarrollo y posee un gran potencial de crecimiento.\n",
    "- Actualmente está en su versión 0.0.1-a1.\n",
    "- Próximas actualizaciones:\n",
    "    - Incorporación de múltiples modelos termodinámicos. Creación de una base de datos que contenga parámetros utilizados por los mismos.\n",
    "    - Permitirle al usuario emplear sus propios parámetros obtenidos del ajuste de datos experimentales.\n",
    "    - Incorporar cálculos relacionados a equilibrio de fases: cálculos flash, estabilidad de fases, trazado de diagramas de equilibrio.\n",
    "- **Criterio de calidad:** Para garantizar el correcto funcionamiento del paquete a medida que se agregan funcionalidades se considera fundamental no solo mantener el nivel de coverage mayor a 95%, sino también profundizar los tests realizados, como por ejemplo, añadir *testing basado en propiedades*."
   ]
  }
 ],
 "metadata": {
  "celltoolbar": "Slideshow",
  "kernelspec": {
   "display_name": "Python 3",
   "language": "python",
   "name": "python3"
  },
  "language_info": {
   "codemirror_mode": {
    "name": "ipython",
    "version": 3
   },
   "file_extension": ".py",
   "mimetype": "text/x-python",
   "name": "python",
   "nbconvert_exporter": "python",
   "pygments_lexer": "ipython3",
   "version": "3.9.7"
  }
 },
 "nbformat": 4,
 "nbformat_minor": 4
}
